{
  "nbformat": 4,
  "nbformat_minor": 0,
  "metadata": {
    "colab": {
      "name": "Jax.apps.ipynb",
      "provenance": [],
      "collapsed_sections": [],
      "authorship_tag": "ABX9TyMPUOEOo5k06+YiKnyVwdqx",
      "include_colab_link": true
    },
    "kernelspec": {
      "name": "python3",
      "display_name": "Python 3"
    },
    "language_info": {
      "name": "python"
    },
    "accelerator": "TPU"
  },
  "cells": [
    {
      "cell_type": "markdown",
      "metadata": {
        "id": "view-in-github",
        "colab_type": "text"
      },
      "source": [
        "<a href=\"https://colab.research.google.com/github/rahuldave/LearningJax/blob/main/Jax_apps.ipynb\" target=\"_parent\"><img src=\"https://colab.research.google.com/assets/colab-badge.svg\" alt=\"Open In Colab\"/></a>"
      ]
    },
    {
      "cell_type": "code",
      "source": [
        "!cat /proc/cpuinfo"
      ],
      "metadata": {
        "colab": {
          "base_uri": "https://localhost:8080/"
        },
        "id": "lKRfiCiPdHm0",
        "outputId": "632cbf4f-c526-4202-b8d0-7645287a1db4"
      },
      "execution_count": 2,
      "outputs": [
        {
          "output_type": "stream",
          "name": "stdout",
          "text": [
            "processor\t: 0\n",
            "vendor_id\t: GenuineIntel\n",
            "cpu family\t: 6\n",
            "model\t\t: 79\n",
            "model name\t: Intel(R) Xeon(R) CPU @ 2.20GHz\n",
            "stepping\t: 0\n",
            "microcode\t: 0x1\n",
            "cpu MHz\t\t: 2200.270\n",
            "cache size\t: 56320 KB\n",
            "physical id\t: 0\n",
            "siblings\t: 2\n",
            "core id\t\t: 0\n",
            "cpu cores\t: 1\n",
            "apicid\t\t: 0\n",
            "initial apicid\t: 0\n",
            "fpu\t\t: yes\n",
            "fpu_exception\t: yes\n",
            "cpuid level\t: 13\n",
            "wp\t\t: yes\n",
            "flags\t\t: fpu vme de pse tsc msr pae mce cx8 apic sep mtrr pge mca cmov pat pse36 clflush mmx fxsr sse sse2 ss ht syscall nx pdpe1gb rdtscp lm constant_tsc rep_good nopl xtopology nonstop_tsc cpuid tsc_known_freq pni pclmulqdq ssse3 fma cx16 pcid sse4_1 sse4_2 x2apic movbe popcnt aes xsave avx f16c rdrand hypervisor lahf_lm abm 3dnowprefetch invpcid_single ssbd ibrs ibpb stibp fsgsbase tsc_adjust bmi1 hle avx2 smep bmi2 erms invpcid rtm rdseed adx smap xsaveopt arat md_clear arch_capabilities\n",
            "bugs\t\t: cpu_meltdown spectre_v1 spectre_v2 spec_store_bypass l1tf mds swapgs taa\n",
            "bogomips\t: 4400.54\n",
            "clflush size\t: 64\n",
            "cache_alignment\t: 64\n",
            "address sizes\t: 46 bits physical, 48 bits virtual\n",
            "power management:\n",
            "\n",
            "processor\t: 1\n",
            "vendor_id\t: GenuineIntel\n",
            "cpu family\t: 6\n",
            "model\t\t: 79\n",
            "model name\t: Intel(R) Xeon(R) CPU @ 2.20GHz\n",
            "stepping\t: 0\n",
            "microcode\t: 0x1\n",
            "cpu MHz\t\t: 2200.270\n",
            "cache size\t: 56320 KB\n",
            "physical id\t: 0\n",
            "siblings\t: 2\n",
            "core id\t\t: 0\n",
            "cpu cores\t: 1\n",
            "apicid\t\t: 1\n",
            "initial apicid\t: 1\n",
            "fpu\t\t: yes\n",
            "fpu_exception\t: yes\n",
            "cpuid level\t: 13\n",
            "wp\t\t: yes\n",
            "flags\t\t: fpu vme de pse tsc msr pae mce cx8 apic sep mtrr pge mca cmov pat pse36 clflush mmx fxsr sse sse2 ss ht syscall nx pdpe1gb rdtscp lm constant_tsc rep_good nopl xtopology nonstop_tsc cpuid tsc_known_freq pni pclmulqdq ssse3 fma cx16 pcid sse4_1 sse4_2 x2apic movbe popcnt aes xsave avx f16c rdrand hypervisor lahf_lm abm 3dnowprefetch invpcid_single ssbd ibrs ibpb stibp fsgsbase tsc_adjust bmi1 hle avx2 smep bmi2 erms invpcid rtm rdseed adx smap xsaveopt arat md_clear arch_capabilities\n",
            "bugs\t\t: cpu_meltdown spectre_v1 spectre_v2 spec_store_bypass l1tf mds swapgs taa\n",
            "bogomips\t: 4400.54\n",
            "clflush size\t: 64\n",
            "cache_alignment\t: 64\n",
            "address sizes\t: 46 bits physical, 48 bits virtual\n",
            "power management:\n",
            "\n"
          ]
        }
      ]
    },
    {
      "cell_type": "code",
      "source": [
        "USE_TPU = True\n",
        "\n",
        "if USE_TPU:\n",
        "  import jax\n",
        "  import jax.tools.colab_tpu\n",
        "  jax.tools.colab_tpu.setup_tpu()\n",
        "else:\n",
        "  # x8 cpu devices  \n",
        "  import os\n",
        "  os.environ[\"XLA_FLAGS\"] = '--xla_force_host_platform_device_count=2'"
      ],
      "metadata": {
        "id": "8bZAo0kHdNeR"
      },
      "execution_count": 1,
      "outputs": []
    },
    {
      "cell_type": "code",
      "execution_count": 2,
      "metadata": {
        "id": "f4gy_n2E6t6T"
      },
      "outputs": [],
      "source": [
        "import jax.numpy as jnp\n",
        "\n",
        "def sigmoid(x):\n",
        "    return 1./(1. + jnp.exp(-x))\n",
        "\n",
        "def f(params, x):\n",
        "    w0 = params[:10]\n",
        "    b0 = params[10:20]\n",
        "    w1 = params[20:30]\n",
        "    b1 = params[30]\n",
        "    x = sigmoid(x*w0 + b0)\n",
        "    x = sigmoid(jnp.sum(x*w1) + b1)\n",
        "    return x"
      ]
    },
    {
      "cell_type": "code",
      "source": [
        "from jax import random\n",
        "\n",
        "key = random.PRNGKey(0)\n",
        "params = random.normal(key, shape=(31,))"
      ],
      "metadata": {
        "id": "eubwGzZ3di1U"
      },
      "execution_count": 3,
      "outputs": []
    },
    {
      "cell_type": "code",
      "source": [
        "from jax import grad\n",
        "\n",
        "dfdx = grad(f, 1)"
      ],
      "metadata": {
        "id": "bh0nPaYTdj1r"
      },
      "execution_count": 4,
      "outputs": []
    },
    {
      "cell_type": "code",
      "source": [
        "inputs = jnp.linspace(-2., 2., num=401)"
      ],
      "metadata": {
        "id": "3V-Oh6wxdtCC"
      },
      "execution_count": 6,
      "outputs": []
    },
    {
      "cell_type": "code",
      "source": [
        "from jax import vmap\n",
        "\n",
        "f_vect = vmap(f, (None, 0))\n",
        "dfdx_vect = vmap(dfdx, (None, 0))"
      ],
      "metadata": {
        "id": "KVUqmckidwqV"
      },
      "execution_count": 7,
      "outputs": []
    },
    {
      "cell_type": "code",
      "source": [
        "from jax import jit\n",
        "\n",
        "@jit\n",
        "def loss(params, inputs):\n",
        "    eq = dfdx_vect(params, inputs) + 2.*inputs*f_vect(params, inputs)\n",
        "    ic = f(params, 0.) - 1.\n",
        "    return jnp.mean(eq**2) + ic**2"
      ],
      "metadata": {
        "id": "ca4Z6EVEeG1A"
      },
      "execution_count": 11,
      "outputs": []
    },
    {
      "cell_type": "code",
      "source": [
        "grad_loss = jit(grad(loss, 0))"
      ],
      "metadata": {
        "id": "59lyaLX7eRMv"
      },
      "execution_count": 12,
      "outputs": []
    },
    {
      "cell_type": "code",
      "source": [
        "epochs = 1000\n",
        "learning_rate = 0.1\n",
        "momentum = 0.99\n",
        "velocity = 0.\n",
        "\n",
        "for epoch in range(epochs):\n",
        "    if epoch % 100 == 0:\n",
        "        print('epoch: %3d loss: %.6f' % (epoch, loss(params, inputs)))\n",
        "    gradient = grad_loss(params + momentum*velocity, inputs)\n",
        "    velocity = momentum*velocity - learning_rate*gradient\n",
        "    params += velocity"
      ],
      "metadata": {
        "colab": {
          "base_uri": "https://localhost:8080/"
        },
        "id": "Ms6emVx-ebNP",
        "outputId": "405698b1-469a-4aa8-f938-337068338231"
      },
      "execution_count": 13,
      "outputs": [
        {
          "output_type": "stream",
          "name": "stdout",
          "text": [
            "epoch:   0 loss: 0.954728\n",
            "epoch: 100 loss: 0.061131\n",
            "epoch: 200 loss: 0.024127\n",
            "epoch: 300 loss: 0.008868\n",
            "epoch: 400 loss: 0.003202\n",
            "epoch: 500 loss: 0.001567\n",
            "epoch: 600 loss: 0.000880\n",
            "epoch: 700 loss: 0.000505\n",
            "epoch: 800 loss: 0.000306\n",
            "epoch: 900 loss: 0.000224\n"
          ]
        }
      ]
    },
    {
      "cell_type": "code",
      "source": [
        "import matplotlib.pyplot as plt\n",
        "\n",
        "plt.plot(inputs, jnp.exp(-inputs**2), label='exact')\n",
        "plt.plot(inputs, f_vect(params, inputs), label='approx')\n",
        "plt.legend()\n",
        "plt.show()"
      ],
      "metadata": {
        "colab": {
          "base_uri": "https://localhost:8080/",
          "height": 265
        },
        "id": "YNAr7InWekHd",
        "outputId": "d8596b1e-72ec-41d0-b481-82efd7214f38"
      },
      "execution_count": 16,
      "outputs": [
        {
          "output_type": "display_data",
          "data": {
            "text/plain": [
              "<Figure size 432x288 with 1 Axes>"
            ],
            "image/png": "[encoded data removed]"
          },
          "metadata": {
            "needs_background": "light"
          }
        }
      ]
    },
    {
      "cell_type": "code",
      "source": [
        "import numpy as np\n",
        "import pandas as pd\n",
        "import sklearn.datasets\n",
        "from sklearn.model_selection import train_test_split\n",
        "from xgboost.sklearn import XGBRegressor\n",
        "import jax\n",
        "import jax.numpy as jnp\n",
        "from tqdm.notebook import tqdm\n",
        "import plotly.express as px\n",
        "from functools import partial\n",
        "from typing import Callable"
      ],
      "metadata": {
        "id": "XTdm75RbicmM"
      },
      "execution_count": 17,
      "outputs": []
    },
    {
      "cell_type": "code",
      "source": [
        "def jax_sle_loss(y_true: np.ndarray, y_pred: np.ndarray):\n",
        "    \"\"\"Calculate the Squared Log Error loss.\"\"\"\n",
        "    return (1/2 * (jnp.log1p(y_pred) - jnp.log1p(y_true))**2)\n",
        "\n",
        "def hvp(f, inputs, vectors):\n",
        "    \"\"\"Hessian-vector product.\"\"\"\n",
        "    return jax.jvp(jax.grad(f), inputs, vectors)[1]\n",
        "\n",
        "def jax_autodiff_grad_hess(\n",
        "    loss_function: Callable[[np.ndarray, np.ndarray], np.ndarray],\n",
        "    y_true: np.ndarray, y_pred: np.ndarray\n",
        "):\n",
        "    \"\"\"Perform automatic differentiation to get the\n",
        "    Gradient and the Hessian of `loss_function`.\"\"\"\n",
        "    loss_function_sum = lambda y_pred: loss_function(y_true, y_pred).sum()\n",
        "\n",
        "    grad_fn = jax.grad(loss_function_sum)\n",
        "    grad = grad_fn(y_pred)\n",
        "\n",
        "    hess = hvp(loss_function_sum, (y_pred,), (jnp.ones_like(y_pred), ))\n",
        "\n",
        "    return grad, hess"
      ],
      "metadata": {
        "id": "TGPODy85inbm"
      },
      "execution_count": 18,
      "outputs": []
    },
    {
      "cell_type": "code",
      "source": [
        "X, y = sklearn.datasets.fetch_california_housing(return_X_y=True)\n",
        "X_train, X_test, y_train, y_test = train_test_split(\n",
        "    X, y, train_size=0.05, random_state=0)\n",
        "print(f\"Train Data: {X_train.shape[0]} examples, {X_train.shape[1]} features\")"
      ],
      "metadata": {
        "colab": {
          "base_uri": "https://localhost:8080/"
        },
        "id": "rNmtrpZditkT",
        "outputId": "dadf8ce2-f662-4c93-b4c7-0c3c31cffaf4"
      },
      "execution_count": 19,
      "outputs": [
        {
          "output_type": "stream",
          "name": "stdout",
          "text": [
            "Train Data: 1032 examples, 8 features\n"
          ]
        }
      ]
    },
    {
      "cell_type": "code",
      "source": [
        "jax_objective = jax.jit(partial(jax_autodiff_grad_hess, jax_sle_loss))\n",
        "reg = XGBRegressor(objective=jax_objective, n_estimators=100)\n",
        "reg.fit(X_train, y_train, eval_set = [(X_test, y_test)], verbose=True)"
      ],
      "metadata": {
        "colab": {
          "base_uri": "https://localhost:8080/"
        },
        "id": "mqoC2u8AjY9a",
        "outputId": "e752727a-7ff5-45d6-85b7-3592a2844ff9"
      },
      "execution_count": 21,
      "outputs": [
        {
          "output_type": "stream",
          "name": "stdout",
          "text": [
            "[23:12:46] WARNING: /workspace/src/objective/regression_obj.cu:152: reg:linear is now deprecated in favor of reg:squarederror.\n",
            "[0]\tvalidation_0-rmse:1.89628\n",
            "[1]\tvalidation_0-rmse:1.84526\n",
            "[2]\tvalidation_0-rmse:1.79421\n",
            "[3]\tvalidation_0-rmse:1.74338\n",
            "[4]\tvalidation_0-rmse:1.69287\n",
            "[5]\tvalidation_0-rmse:1.64275\n",
            "[6]\tvalidation_0-rmse:1.59351\n",
            "[7]\tvalidation_0-rmse:1.54489\n",
            "[8]\tvalidation_0-rmse:1.49703\n",
            "[9]\tvalidation_0-rmse:1.45083\n",
            "[10]\tvalidation_0-rmse:1.4057\n",
            "[11]\tvalidation_0-rmse:1.36191\n",
            "[12]\tvalidation_0-rmse:1.3194\n",
            "[13]\tvalidation_0-rmse:1.27866\n",
            "[14]\tvalidation_0-rmse:1.23975\n",
            "[15]\tvalidation_0-rmse:1.20226\n",
            "[16]\tvalidation_0-rmse:1.16705\n",
            "[17]\tvalidation_0-rmse:1.13362\n",
            "[18]\tvalidation_0-rmse:1.10209\n",
            "[19]\tvalidation_0-rmse:1.0719\n",
            "[20]\tvalidation_0-rmse:1.04363\n",
            "[21]\tvalidation_0-rmse:1.01775\n",
            "[22]\tvalidation_0-rmse:0.993392\n",
            "[23]\tvalidation_0-rmse:0.970316\n",
            "[24]\tvalidation_0-rmse:0.948399\n",
            "[25]\tvalidation_0-rmse:0.929888\n",
            "[26]\tvalidation_0-rmse:0.910925\n",
            "[27]\tvalidation_0-rmse:0.894401\n",
            "[28]\tvalidation_0-rmse:0.878413\n",
            "[29]\tvalidation_0-rmse:0.863451\n",
            "[30]\tvalidation_0-rmse:0.849837\n",
            "[31]\tvalidation_0-rmse:0.838261\n",
            "[32]\tvalidation_0-rmse:0.82647\n",
            "[33]\tvalidation_0-rmse:0.813669\n",
            "[34]\tvalidation_0-rmse:0.80419\n",
            "[35]\tvalidation_0-rmse:0.79503\n",
            "[36]\tvalidation_0-rmse:0.787148\n",
            "[37]\tvalidation_0-rmse:0.77994\n",
            "[38]\tvalidation_0-rmse:0.772312\n",
            "[39]\tvalidation_0-rmse:0.764505\n",
            "[40]\tvalidation_0-rmse:0.758454\n",
            "[41]\tvalidation_0-rmse:0.752552\n",
            "[42]\tvalidation_0-rmse:0.745895\n",
            "[43]\tvalidation_0-rmse:0.737549\n",
            "[44]\tvalidation_0-rmse:0.727815\n",
            "[45]\tvalidation_0-rmse:0.722469\n",
            "[46]\tvalidation_0-rmse:0.718112\n",
            "[47]\tvalidation_0-rmse:0.713132\n",
            "[48]\tvalidation_0-rmse:0.707474\n",
            "[49]\tvalidation_0-rmse:0.703841\n",
            "[50]\tvalidation_0-rmse:0.701049\n",
            "[51]\tvalidation_0-rmse:0.695735\n",
            "[52]\tvalidation_0-rmse:0.691582\n",
            "[53]\tvalidation_0-rmse:0.687279\n",
            "[54]\tvalidation_0-rmse:0.683918\n",
            "[55]\tvalidation_0-rmse:0.681506\n",
            "[56]\tvalidation_0-rmse:0.677532\n",
            "[57]\tvalidation_0-rmse:0.675054\n",
            "[58]\tvalidation_0-rmse:0.672485\n",
            "[59]\tvalidation_0-rmse:0.668414\n",
            "[60]\tvalidation_0-rmse:0.665963\n",
            "[61]\tvalidation_0-rmse:0.663702\n",
            "[62]\tvalidation_0-rmse:0.661026\n",
            "[63]\tvalidation_0-rmse:0.659721\n",
            "[64]\tvalidation_0-rmse:0.658133\n",
            "[65]\tvalidation_0-rmse:0.656392\n",
            "[66]\tvalidation_0-rmse:0.655172\n",
            "[67]\tvalidation_0-rmse:0.651936\n",
            "[68]\tvalidation_0-rmse:0.650795\n",
            "[69]\tvalidation_0-rmse:0.649676\n",
            "[70]\tvalidation_0-rmse:0.646978\n",
            "[71]\tvalidation_0-rmse:0.645019\n",
            "[72]\tvalidation_0-rmse:0.643071\n",
            "[73]\tvalidation_0-rmse:0.640981\n",
            "[74]\tvalidation_0-rmse:0.640051\n",
            "[75]\tvalidation_0-rmse:0.63963\n",
            "[76]\tvalidation_0-rmse:0.638196\n",
            "[77]\tvalidation_0-rmse:0.637444\n",
            "[78]\tvalidation_0-rmse:0.636813\n",
            "[79]\tvalidation_0-rmse:0.635127\n",
            "[80]\tvalidation_0-rmse:0.634566\n",
            "[81]\tvalidation_0-rmse:0.633613\n",
            "[82]\tvalidation_0-rmse:0.63325\n",
            "[83]\tvalidation_0-rmse:0.631837\n",
            "[84]\tvalidation_0-rmse:0.6312\n",
            "[85]\tvalidation_0-rmse:0.630241\n",
            "[86]\tvalidation_0-rmse:0.629229\n",
            "[87]\tvalidation_0-rmse:0.627648\n",
            "[88]\tvalidation_0-rmse:0.627513\n",
            "[89]\tvalidation_0-rmse:0.627104\n",
            "[90]\tvalidation_0-rmse:0.625905\n",
            "[91]\tvalidation_0-rmse:0.625925\n",
            "[92]\tvalidation_0-rmse:0.625658\n",
            "[93]\tvalidation_0-rmse:0.625109\n",
            "[94]\tvalidation_0-rmse:0.624756\n",
            "[95]\tvalidation_0-rmse:0.624715\n",
            "[96]\tvalidation_0-rmse:0.624349\n",
            "[97]\tvalidation_0-rmse:0.623512\n",
            "[98]\tvalidation_0-rmse:0.623554\n",
            "[99]\tvalidation_0-rmse:0.623462\n"
          ]
        },
        {
          "output_type": "execute_result",
          "data": {
            "text/plain": [
              "XGBRegressor(objective=<CompiledFunction of functools.partial(<function jax_autodiff_grad_hess at 0x7ff8ce1c8b00>, <function jax_sle_loss at 0x7ff8bcbfbe60>)>)"
            ]
          },
          "metadata": {},
          "execution_count": 21
        }
      ]
    },
    {
      "cell_type": "code",
      "source": [
        ""
      ],
      "metadata": {
        "id": "FuJ-LuBdl4A5"
      },
      "execution_count": null,
      "outputs": []
    }
  ]
}