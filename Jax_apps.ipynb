{
  "nbformat": 4,
  "nbformat_minor": 0,
  "metadata": {
    "colab": {
      "name": "Jax.apps.ipynb",
      "provenance": [],
      "collapsed_sections": [],
      "authorship_tag": "ABX9TyOdDX0vJdtHm7ZP0dix14Vw",
      "include_colab_link": true
    },
    "kernelspec": {
      "name": "python3",
      "display_name": "Python 3"
    },
    "language_info": {
      "name": "python"
    },
    "accelerator": "GPU"
  },
  "cells": [
    {
      "cell_type": "markdown",
      "metadata": {
        "id": "view-in-github",
        "colab_type": "text"
      },
      "source": [
        "<a href=\"https://colab.research.google.com/github/rahuldave/LearningJax/blob/main/Jax_apps.ipynb\" target=\"_parent\"><img src=\"https://colab.research.google.com/assets/colab-badge.svg\" alt=\"Open In Colab\"/></a>"
      ]
    },
    {
      "cell_type": "markdown",
      "source": [
        "# Jax applications\n",
        "\n",
        "We finally showcase two applicattions using Jax.\n",
        "\n",
        "Entire frameworks for deep learning have been created using Jax: flax or haiku, optax for optimization and much more. Jax is being used in MCMC inference engines; the easy gradients make for good Hamiltonian Monte Carlo implementations. People have written gradient boosting libraries in Jax..\n",
        "\n",
        "Here we look at two relatively simple applications. The first is solving a differential equation using Jax, and the second is writing custom losses for Xgboost. Both are made possible by the automatic differentiation capabilities of Jax..."
      ],
      "metadata": {
        "id": "pMj1CEwAPGIH"
      }
    },
    {
      "cell_type": "code",
      "source": [
        "!cat /proc/cpuinfo"
      ],
      "metadata": {
        "colab": {
          "base_uri": "https://localhost:8080/"
        },
        "id": "lKRfiCiPdHm0",
        "outputId": "eb1e41b1-7602-40f7-93a9-a4cb1f49668d"
      },
      "execution_count": 1,
      "outputs": [
        {
          "output_type": "stream",
          "name": "stdout",
          "text": [
            "processor\t: 0\n",
            "vendor_id\t: GenuineIntel\n",
            "cpu family\t: 6\n",
            "model\t\t: 79\n",
            "model name\t: Intel(R) Xeon(R) CPU @ 2.20GHz\n",
            "stepping\t: 0\n",
            "microcode\t: 0x1\n",
            "cpu MHz\t\t: 2199.998\n",
            "cache size\t: 56320 KB\n",
            "physical id\t: 0\n",
            "siblings\t: 2\n",
            "core id\t\t: 0\n",
            "cpu cores\t: 1\n",
            "apicid\t\t: 0\n",
            "initial apicid\t: 0\n",
            "fpu\t\t: yes\n",
            "fpu_exception\t: yes\n",
            "cpuid level\t: 13\n",
            "wp\t\t: yes\n",
            "flags\t\t: fpu vme de pse tsc msr pae mce cx8 apic sep mtrr pge mca cmov pat pse36 clflush mmx fxsr sse sse2 ss ht syscall nx pdpe1gb rdtscp lm constant_tsc rep_good nopl xtopology nonstop_tsc cpuid tsc_known_freq pni pclmulqdq ssse3 fma cx16 pcid sse4_1 sse4_2 x2apic movbe popcnt aes xsave avx f16c rdrand hypervisor lahf_lm abm 3dnowprefetch invpcid_single ssbd ibrs ibpb stibp fsgsbase tsc_adjust bmi1 hle avx2 smep bmi2 erms invpcid rtm rdseed adx smap xsaveopt arat md_clear arch_capabilities\n",
            "bugs\t\t: cpu_meltdown spectre_v1 spectre_v2 spec_store_bypass l1tf mds swapgs taa\n",
            "bogomips\t: 4399.99\n",
            "clflush size\t: 64\n",
            "cache_alignment\t: 64\n",
            "address sizes\t: 46 bits physical, 48 bits virtual\n",
            "power management:\n",
            "\n",
            "processor\t: 1\n",
            "vendor_id\t: GenuineIntel\n",
            "cpu family\t: 6\n",
            "model\t\t: 79\n",
            "model name\t: Intel(R) Xeon(R) CPU @ 2.20GHz\n",
            "stepping\t: 0\n",
            "microcode\t: 0x1\n",
            "cpu MHz\t\t: 2199.998\n",
            "cache size\t: 56320 KB\n",
            "physical id\t: 0\n",
            "siblings\t: 2\n",
            "core id\t\t: 0\n",
            "cpu cores\t: 1\n",
            "apicid\t\t: 1\n",
            "initial apicid\t: 1\n",
            "fpu\t\t: yes\n",
            "fpu_exception\t: yes\n",
            "cpuid level\t: 13\n",
            "wp\t\t: yes\n",
            "flags\t\t: fpu vme de pse tsc msr pae mce cx8 apic sep mtrr pge mca cmov pat pse36 clflush mmx fxsr sse sse2 ss ht syscall nx pdpe1gb rdtscp lm constant_tsc rep_good nopl xtopology nonstop_tsc cpuid tsc_known_freq pni pclmulqdq ssse3 fma cx16 pcid sse4_1 sse4_2 x2apic movbe popcnt aes xsave avx f16c rdrand hypervisor lahf_lm abm 3dnowprefetch invpcid_single ssbd ibrs ibpb stibp fsgsbase tsc_adjust bmi1 hle avx2 smep bmi2 erms invpcid rtm rdseed adx smap xsaveopt arat md_clear arch_capabilities\n",
            "bugs\t\t: cpu_meltdown spectre_v1 spectre_v2 spec_store_bypass l1tf mds swapgs taa\n",
            "bogomips\t: 4399.99\n",
            "clflush size\t: 64\n",
            "cache_alignment\t: 64\n",
            "address sizes\t: 46 bits physical, 48 bits virtual\n",
            "power management:\n",
            "\n"
          ]
        }
      ]
    },
    {
      "cell_type": "code",
      "source": [
        "USE_TPU = False\n",
        "\n",
        "if USE_TPU:\n",
        "  import jax\n",
        "  import jax.tools.colab_tpu\n",
        "  jax.tools.colab_tpu.setup_tpu()\n",
        "else:\n",
        "  # x8 cpu devices  \n",
        "  import os\n",
        "  os.environ[\"XLA_FLAGS\"] = '--xla_force_host_platform_device_count=2'"
      ],
      "metadata": {
        "id": "8bZAo0kHdNeR"
      },
      "execution_count": 2,
      "outputs": []
    },
    {
      "cell_type": "markdown",
      "source": [
        "## Solving an ordinary differential equation\n",
        "\n",
        "The code for this demo is taken from https://towardsdatascience.com/how-to-solve-an-ode-with-a-neural-network-917d11918932 .\n",
        "\n",
        "Say we want to find the solution $y=f(x)$ to the differential equation:\n",
        "\n",
        "$$y’=-2xy,$$\n",
        "\n",
        "under some initial conditions, say  $y(0)=1$.\n",
        "\n",
        "Remember that neural neyworks are big honking non-linear function approximators, so we ought to be able to come up with a scheme to solve differential equations approximately using them!\n",
        "\n",
        "Lets say we use the following network as the approximation:\n",
        "\n",
        "![](https://miro.medium.com/max/930/1*ABVRsdzou1-jjtUwH7qUKw.png)\n",
        "\n",
        "It has 31 trainable parameters. We'll arange these parameters in another `pytree`, here an array."
      ],
      "metadata": {
        "id": "JSV9yWUNR59A"
      }
    },
    {
      "cell_type": "code",
      "execution_count": 3,
      "metadata": {
        "id": "f4gy_n2E6t6T"
      },
      "outputs": [],
      "source": [
        "import jax.numpy as jnp\n",
        "\n",
        "def sigmoid(x):\n",
        "    return 1./(1. + jnp.exp(-x))\n",
        "\n",
        "def f(params, x):\n",
        "    w0 = params[:10]\n",
        "    b0 = params[10:20]\n",
        "    w1 = params[20:30]\n",
        "    b1 = params[30]\n",
        "    y = sigmoid(x*w0 + b0)\n",
        "    y = sigmoid(jnp.sum(y*w1) + b1)\n",
        "    return y"
      ]
    },
    {
      "cell_type": "markdown",
      "source": [
        "Lets seed a random key and initialize these params using a standard normal distribution."
      ],
      "metadata": {
        "id": "8aWSzfsGhzj7"
      }
    },
    {
      "cell_type": "code",
      "source": [
        "from jax import random\n",
        "\n",
        "key = random.PRNGKey(0)\n",
        "params = random.normal(key, shape=(31,))"
      ],
      "metadata": {
        "colab": {
          "base_uri": "https://localhost:8080/"
        },
        "id": "eubwGzZ3di1U",
        "outputId": "12d78020-54f2-41b9-881a-7c013a0e1cc6"
      },
      "execution_count": 4,
      "outputs": [
        {
          "output_type": "stream",
          "name": "stderr",
          "text": [
            "WARNING:absl:No GPU/TPU found, falling back to CPU. (Set TF_CPP_MIN_LOG_LEVEL=0 and rerun for more info.)\n"
          ]
        }
      ]
    },
    {
      "cell_type": "markdown",
      "source": [
        "Now we want to find $f'$ or $\\frac{df}{dx}$ so we take the gradient with respect to the second argument:"
      ],
      "metadata": {
        "id": "ySwczKc0iKSj"
      }
    },
    {
      "cell_type": "code",
      "source": [
        "from jax import grad\n",
        "\n",
        "dfdx = grad(f, 1)"
      ],
      "metadata": {
        "id": "bh0nPaYTdj1r"
      },
      "execution_count": 7,
      "outputs": []
    },
    {
      "cell_type": "markdown",
      "source": [
        "We need to find a range on which we need to solve the differential equation: these are the appropriate boundary conditions.."
      ],
      "metadata": {
        "id": "526zCMSQif58"
      }
    },
    {
      "cell_type": "code",
      "source": [
        "inputs = jnp.linspace(-2., 2., num=401)"
      ],
      "metadata": {
        "id": "3V-Oh6wxdtCC"
      },
      "execution_count": 5,
      "outputs": []
    },
    {
      "cell_type": "markdown",
      "source": [
        "Since Jax is being fed a sclar function to calculate the gradient, and we are not summing over the $x$ as we normally do in a loss calculation, we'll use out old friend `vmap` to vectorize out gradient over the input range..."
      ],
      "metadata": {
        "id": "1YshuymoixWK"
      }
    },
    {
      "cell_type": "code",
      "source": [
        "from jax import vmap\n",
        "\n",
        "f_vect = vmap(f, (None, 0))\n",
        "dfdx_vect = vmap(dfdx, (None, 0))"
      ],
      "metadata": {
        "id": "KVUqmckidwqV"
      },
      "execution_count": 8,
      "outputs": []
    },
    {
      "cell_type": "markdown",
      "source": [
        "The `(None, 0)` once agin maps to the arguments: map over the 0-axis of the second argument (x), while the first argument (params) is left untouched (or more precisely, with `None`, it will be broadcasted across the mapping).\n",
        "\n",
        "All this is very nice, but how do we _enforce_ our differential equation? We do it the usual way, by defining a loss and minimizing it. Since our ODE is:\n",
        "\n",
        "$$y’=-2xy,$$\n",
        "\n",
        "we'll want:\n",
        "\n",
        "$$y’ + 2xy$$\n",
        "\n",
        "to be as small as possible. We'll also want $y(0)$ to be as close to 1 as possible. Putting in these two constraints into separate squared losses and adding them gives us:"
      ],
      "metadata": {
        "id": "I1rArDhIjO-i"
      }
    },
    {
      "cell_type": "code",
      "source": [
        "from jax import jit\n",
        "\n",
        "@jit\n",
        "def loss(params, inputs):\n",
        "    eq = dfdx_vect(params, inputs) + 2.*inputs*f_vect(params, inputs)\n",
        "    ic = f(params, 0.) - 1.\n",
        "    return jnp.mean(eq**2) + ic**2"
      ],
      "metadata": {
        "id": "ca4Z6EVEeG1A"
      },
      "execution_count": 9,
      "outputs": []
    },
    {
      "cell_type": "markdown",
      "source": [
        "Now everything is as before. Get the usual gradient of the loss with respect to the parameters and set up gradient descent. "
      ],
      "metadata": {
        "id": "zxHR0r74kxyV"
      }
    },
    {
      "cell_type": "code",
      "source": [
        "grad_loss = jit(grad(loss, 0))"
      ],
      "metadata": {
        "id": "59lyaLX7eRMv"
      },
      "execution_count": 10,
      "outputs": []
    },
    {
      "cell_type": "markdown",
      "source": [
        "We use Nesterov momentum for faster convergence..we dont need to but it illustrates how we might evaluate the jitted `grad_loss` function at slightly different parameter values.\n",
        "\n",
        "![](https://miro.medium.com/max/740/1*KCRAjTK4244WKBZC6Zm8RQ.png)"
      ],
      "metadata": {
        "id": "NDc8Yph7lTR3"
      }
    },
    {
      "cell_type": "code",
      "source": [
        "epochs = 1000\n",
        "learning_rate = 0.1\n",
        "momentum = 0.99\n",
        "velocity = 0.\n",
        "\n",
        "for epoch in range(epochs):\n",
        "    if epoch % 100 == 0:\n",
        "        print('epoch: %3d loss: %.6f' % (epoch, loss(params, inputs)))\n",
        "    gradient = grad_loss(params + momentum*velocity, inputs)\n",
        "    velocity = momentum*velocity - learning_rate*gradient\n",
        "    params += velocity"
      ],
      "metadata": {
        "colab": {
          "base_uri": "https://localhost:8080/"
        },
        "id": "Ms6emVx-ebNP",
        "outputId": "acf6d465-4240-4e16-a1bb-6c7e06bc4771"
      },
      "execution_count": 11,
      "outputs": [
        {
          "output_type": "stream",
          "name": "stdout",
          "text": [
            "epoch:   0 loss: 0.954726\n",
            "epoch: 100 loss: 0.061131\n",
            "epoch: 200 loss: 0.024128\n",
            "epoch: 300 loss: 0.008868\n",
            "epoch: 400 loss: 0.003202\n",
            "epoch: 500 loss: 0.001567\n",
            "epoch: 600 loss: 0.000880\n",
            "epoch: 700 loss: 0.000505\n",
            "epoch: 800 loss: 0.000306\n",
            "epoch: 900 loss: 0.000224\n"
          ]
        }
      ]
    },
    {
      "cell_type": "markdown",
      "source": [
        "How did we do? We plot our solution against the exact solution which is $exp(-x^2)$:"
      ],
      "metadata": {
        "id": "83f56-7Dll_q"
      }
    },
    {
      "cell_type": "code",
      "source": [
        "import matplotlib.pyplot as plt\n",
        "\n",
        "plt.plot(inputs, jnp.exp(-inputs**2), '.', alpha=0.5,  label='exact')\n",
        "plt.plot(inputs, f_vect(params, inputs), label='approx')\n",
        "plt.legend()\n",
        "plt.show()"
      ],
      "metadata": {
        "colab": {
          "base_uri": "https://localhost:8080/",
          "height": 265
        },
        "id": "YNAr7InWekHd",
        "outputId": "7ee63bc3-5cd3-4b21-d267-333a77666c80"
      },
      "execution_count": 19,
      "outputs": [
        {
          "output_type": "display_data",
          "data": {
            "text/plain": [
              "<Figure size 432x288 with 1 Axes>"
            ],
            "image/png": "[encoded data removed]"
          },
          "metadata": {
            "needs_background": "light"
          }
        }
      ]
    },
    {
      "cell_type": "markdown",
      "source": [
        "## 2: Supplying xgboost a gradient and a Hessian\n",
        "\n",
        "This demo is taken from https://towardsdatascience.com/jax-vs-pytorch-automatic-differentiation-for-xgboost-10222e1404ec which also shows how to do this using pytorch.\n",
        "\n",
        "The basic idea of gradient boosting is the incremental learning of the residual from the previous weak learner..quite like a resnet. This residual can be described as a gradient in function space.\n",
        "\n",
        "Any loss function can be minimized in gradient boosting, since there, the basic idea is to replace it by the mean squared error followed by a beam serach. You can think of this as roughly needing to model the gradient at any step by a week learner in the MSE sense, and thus we need both the gradient, and the gradient of the gradient, or the Hessian.\n",
        "\n",
        "xhboost provides tons of loss functions, but also gives us the ability to write custom loss functions which we want to minimize. This is a usual trick in Kaggle competitions, and I have personally used it for losses like focal loss which are not defined in the package.\n",
        "\n",
        "We'll use a custom loss function here, calles the Squared Log Error (SLE):\n",
        "\n",
        "![](https://miro.medium.com/max/1400/0*sCTEDe1H7ee8gfX0.png)\n",
        "\n",
        "As the article says:\n",
        "\n",
        ">Note that this loss penalizes an under-predicted estimate greater than an over-predicted estimate. It could reflect a real business requirement when predicting house prices, and we are able to fulfill it by choosing a custom loss function.\n",
        "\n"
      ],
      "metadata": {
        "id": "7dzm9KeMmPXK"
      }
    },
    {
      "cell_type": "code",
      "source": [
        "import numpy as np\n",
        "import pandas as pd\n",
        "import sklearn.datasets\n",
        "from sklearn.model_selection import train_test_split\n",
        "from xgboost.sklearn import XGBRegressor\n",
        "import jax\n",
        "import jax.numpy as jnp\n",
        "from tqdm.notebook import tqdm\n",
        "import plotly.express as px\n",
        "from functools import partial\n",
        "from typing import Callable"
      ],
      "metadata": {
        "id": "XTdm75RbicmM"
      },
      "execution_count": 20,
      "outputs": []
    },
    {
      "cell_type": "markdown",
      "source": [
        "We use `grad` to calculate the gradient of the SLE loss, and then use `hvp` provided by jax to calculate the Hessian. As the article says:\n",
        "\n",
        ">Note that we use the hvp (Hessian-vector product) function (on a vector of ones) from [JAX’s Autodiff Cookbook](https://jax.readthedocs.io/en/latest/notebooks/autodiff_cookbook.html#hessian-vector-products-using-both-forward-and-reverse-mode) to calculate the diagonal of the Hessian. This trick is possible only when the Hessian is diagonal (all non-diagonal entries are zero), which holds in our case. This way, we never store the entire hessian, and calculate it on the fly, reducing memory consumption."
      ],
      "metadata": {
        "id": "WMN3z2rroWzM"
      }
    },
    {
      "cell_type": "code",
      "source": [
        "def jax_sle_loss(y_true: np.ndarray, y_pred: np.ndarray):\n",
        "    \"\"\"Calculate the Squared Log Error loss.\"\"\"\n",
        "    return (1/2 * (jnp.log1p(y_pred) - jnp.log1p(y_true))**2)\n",
        "\n",
        "def hvp(f, inputs, vectors):\n",
        "    \"\"\"Hessian-vector product.\"\"\"\n",
        "    return jax.jvp(jax.grad(f), inputs, vectors)[1]\n",
        "\n",
        "def jax_autodiff_grad_hess(\n",
        "    loss_function: Callable[[np.ndarray, np.ndarray], np.ndarray],\n",
        "    y_true: np.ndarray, y_pred: np.ndarray\n",
        "):\n",
        "    \"\"\"Perform automatic differentiation to get the\n",
        "    Gradient and the Hessian of `loss_function`.\"\"\"\n",
        "    loss_function_sum = lambda y_pred: loss_function(y_true, y_pred).sum()\n",
        "\n",
        "    grad_fn = jax.grad(loss_function_sum)\n",
        "    grad = grad_fn(y_pred)\n",
        "\n",
        "    hess = hvp(loss_function_sum, (y_pred,), (jnp.ones_like(y_pred), ))\n",
        "\n",
        "    return grad, hess"
      ],
      "metadata": {
        "id": "TGPODy85inbm"
      },
      "execution_count": 21,
      "outputs": []
    },
    {
      "cell_type": "markdown",
      "source": [
        "We create our training data..."
      ],
      "metadata": {
        "id": "Y8eKwsBOo-sw"
      }
    },
    {
      "cell_type": "code",
      "source": [
        "X, y = sklearn.datasets.fetch_california_housing(return_X_y=True)\n",
        "X_train, X_test, y_train, y_test = train_test_split(\n",
        "    X, y, train_size=0.05, random_state=0)\n",
        "print(f\"Train Data: {X_train.shape[0]} examples, {X_train.shape[1]} features\")"
      ],
      "metadata": {
        "colab": {
          "base_uri": "https://localhost:8080/"
        },
        "id": "rNmtrpZditkT",
        "outputId": "c13b9f6a-2c45-42ed-bd9b-36d17f0f9863"
      },
      "execution_count": 22,
      "outputs": [
        {
          "output_type": "stream",
          "name": "stdout",
          "text": [
            "Train Data: 1032 examples, 8 features\n"
          ]
        }
      ]
    },
    {
      "cell_type": "markdown",
      "source": [
        "We `jit` the function returning both the loss and the hessian after it has been curried with the input loss function using python's `partial`. This is needed because we need to both `grad` and `hvp` this loss, but the xgboost specification only wants us to provide `y_true` and `y_pred` as inputs. (you saw an example of this \"closure\" strategy earlier when we were talking about functional programming.\n",
        "\n",
        "Then we fit for 100 epochs or 100 trees and do are regular gradient boosting stuff.."
      ],
      "metadata": {
        "id": "koeNEp-0panA"
      }
    },
    {
      "cell_type": "code",
      "source": [
        "jax_objective = jax.jit(partial(jax_autodiff_grad_hess, jax_sle_loss))\n",
        "reg = XGBRegressor(objective=jax_objective, n_estimators=100)\n",
        "reg.fit(X_train, y_train, eval_set = [(X_test, y_test)], verbose=True)"
      ],
      "metadata": {
        "colab": {
          "base_uri": "https://localhost:8080/"
        },
        "id": "mqoC2u8AjY9a",
        "outputId": "333dbd37-4bd1-4920-8661-e29a33b46d2c"
      },
      "execution_count": 23,
      "outputs": [
        {
          "output_type": "stream",
          "name": "stdout",
          "text": [
            "[13:33:11] WARNING: /workspace/src/objective/regression_obj.cu:152: reg:linear is now deprecated in favor of reg:squarederror.\n",
            "[0]\tvalidation_0-rmse:1.89628\n",
            "[1]\tvalidation_0-rmse:1.84526\n",
            "[2]\tvalidation_0-rmse:1.79421\n",
            "[3]\tvalidation_0-rmse:1.74338\n",
            "[4]\tvalidation_0-rmse:1.69278\n",
            "[5]\tvalidation_0-rmse:1.64275\n",
            "[6]\tvalidation_0-rmse:1.59351\n",
            "[7]\tvalidation_0-rmse:1.54489\n",
            "[8]\tvalidation_0-rmse:1.49703\n",
            "[9]\tvalidation_0-rmse:1.45083\n",
            "[10]\tvalidation_0-rmse:1.4057\n",
            "[11]\tvalidation_0-rmse:1.36191\n",
            "[12]\tvalidation_0-rmse:1.3194\n",
            "[13]\tvalidation_0-rmse:1.27866\n",
            "[14]\tvalidation_0-rmse:1.23975\n",
            "[15]\tvalidation_0-rmse:1.20226\n",
            "[16]\tvalidation_0-rmse:1.16705\n",
            "[17]\tvalidation_0-rmse:1.13363\n",
            "[18]\tvalidation_0-rmse:1.1021\n",
            "[19]\tvalidation_0-rmse:1.0719\n",
            "[20]\tvalidation_0-rmse:1.04363\n",
            "[21]\tvalidation_0-rmse:1.01775\n",
            "[22]\tvalidation_0-rmse:0.993397\n",
            "[23]\tvalidation_0-rmse:0.970323\n",
            "[24]\tvalidation_0-rmse:0.948407\n",
            "[25]\tvalidation_0-rmse:0.929901\n",
            "[26]\tvalidation_0-rmse:0.910937\n",
            "[27]\tvalidation_0-rmse:0.894408\n",
            "[28]\tvalidation_0-rmse:0.87842\n",
            "[29]\tvalidation_0-rmse:0.863459\n",
            "[30]\tvalidation_0-rmse:0.849843\n",
            "[31]\tvalidation_0-rmse:0.838266\n",
            "[32]\tvalidation_0-rmse:0.826477\n",
            "[33]\tvalidation_0-rmse:0.813676\n",
            "[34]\tvalidation_0-rmse:0.804198\n",
            "[35]\tvalidation_0-rmse:0.795037\n",
            "[36]\tvalidation_0-rmse:0.787153\n",
            "[37]\tvalidation_0-rmse:0.779947\n",
            "[38]\tvalidation_0-rmse:0.772318\n",
            "[39]\tvalidation_0-rmse:0.764513\n",
            "[40]\tvalidation_0-rmse:0.758461\n",
            "[41]\tvalidation_0-rmse:0.752558\n",
            "[42]\tvalidation_0-rmse:0.745905\n",
            "[43]\tvalidation_0-rmse:0.737557\n",
            "[44]\tvalidation_0-rmse:0.727824\n",
            "[45]\tvalidation_0-rmse:0.722478\n",
            "[46]\tvalidation_0-rmse:0.71812\n",
            "[47]\tvalidation_0-rmse:0.71314\n",
            "[48]\tvalidation_0-rmse:0.707483\n",
            "[49]\tvalidation_0-rmse:0.703849\n",
            "[50]\tvalidation_0-rmse:0.701057\n",
            "[51]\tvalidation_0-rmse:0.695743\n",
            "[52]\tvalidation_0-rmse:0.69159\n",
            "[53]\tvalidation_0-rmse:0.687288\n",
            "[54]\tvalidation_0-rmse:0.683926\n",
            "[55]\tvalidation_0-rmse:0.681515\n",
            "[56]\tvalidation_0-rmse:0.67754\n",
            "[57]\tvalidation_0-rmse:0.675063\n",
            "[58]\tvalidation_0-rmse:0.672494\n",
            "[59]\tvalidation_0-rmse:0.668424\n",
            "[60]\tvalidation_0-rmse:0.665971\n",
            "[61]\tvalidation_0-rmse:0.663711\n",
            "[62]\tvalidation_0-rmse:0.661035\n",
            "[63]\tvalidation_0-rmse:0.659729\n",
            "[64]\tvalidation_0-rmse:0.658141\n",
            "[65]\tvalidation_0-rmse:0.656401\n",
            "[66]\tvalidation_0-rmse:0.65518\n",
            "[67]\tvalidation_0-rmse:0.651945\n",
            "[68]\tvalidation_0-rmse:0.650803\n",
            "[69]\tvalidation_0-rmse:0.649685\n",
            "[70]\tvalidation_0-rmse:0.646986\n",
            "[71]\tvalidation_0-rmse:0.645028\n",
            "[72]\tvalidation_0-rmse:0.64308\n",
            "[73]\tvalidation_0-rmse:0.64099\n",
            "[74]\tvalidation_0-rmse:0.64006\n",
            "[75]\tvalidation_0-rmse:0.639639\n",
            "[76]\tvalidation_0-rmse:0.638205\n",
            "[77]\tvalidation_0-rmse:0.637453\n",
            "[78]\tvalidation_0-rmse:0.636822\n",
            "[79]\tvalidation_0-rmse:0.635136\n",
            "[80]\tvalidation_0-rmse:0.634576\n",
            "[81]\tvalidation_0-rmse:0.633622\n",
            "[82]\tvalidation_0-rmse:0.633258\n",
            "[83]\tvalidation_0-rmse:0.631846\n",
            "[84]\tvalidation_0-rmse:0.631209\n",
            "[85]\tvalidation_0-rmse:0.63025\n",
            "[86]\tvalidation_0-rmse:0.629237\n",
            "[87]\tvalidation_0-rmse:0.627656\n",
            "[88]\tvalidation_0-rmse:0.627522\n",
            "[89]\tvalidation_0-rmse:0.627112\n",
            "[90]\tvalidation_0-rmse:0.625914\n",
            "[91]\tvalidation_0-rmse:0.625933\n",
            "[92]\tvalidation_0-rmse:0.625666\n",
            "[93]\tvalidation_0-rmse:0.625118\n",
            "[94]\tvalidation_0-rmse:0.624764\n",
            "[95]\tvalidation_0-rmse:0.624705\n",
            "[96]\tvalidation_0-rmse:0.624332\n",
            "[97]\tvalidation_0-rmse:0.623676\n",
            "[98]\tvalidation_0-rmse:0.623723\n",
            "[99]\tvalidation_0-rmse:0.623329\n"
          ]
        },
        {
          "output_type": "execute_result",
          "data": {
            "text/plain": [
              "XGBRegressor(objective=<CompiledFunction of functools.partial(<function jax_autodiff_grad_hess at 0x7fbe8ef99170>, <function jax_sle_loss at 0x7fbe8ef48440>)>)"
            ]
          },
          "metadata": {},
          "execution_count": 23
        }
      ]
    }
  ]
}