{
  "nbformat": 4,
  "nbformat_minor": 0,
  "metadata": {
    "colab": {
      "name": "Jax.GD.ipynb",
      "provenance": [],
      "collapsed_sections": [],
      "include_colab_link": true
    },
    "kernelspec": {
      "display_name": "Python 3",
      "name": "python3"
    },
    "accelerator": "TPU"
  },
  "cells": [
    {
      "cell_type": "markdown",
      "metadata": {
        "id": "view-in-github",
        "colab_type": "text"
      },
      "source": [
        "<a href=\"https://colab.research.google.com/github/rahuldave/LearningJax/blob/main/Jax_GD.ipynb\" target=\"_parent\"><img src=\"https://colab.research.google.com/assets/colab-badge.svg\" alt=\"Open In Colab\"/></a>"
      ]
    },
    {
      "cell_type": "markdown",
      "metadata": {
        "id": "AlHg1tBH7eiy"
      },
      "source": [
        "# solving y=mx+b on a TPU\n",
        "\n",
        "_part of the [solving y=mx+b... with jax on a tpu pod slice](http://matpalm.com/blog/ymxb_pod_slice/) blog series_\n",
        "\n",
        "in the last colab we introduced some key jax transforms. \n",
        "\n",
        "in this colab we'll use them to fit a simple `y=mx+b` model using squared loss; both on a single device as well as across 8 devices in a data parallelism approach.\n",
        "\n",
        "while the approach described here is clearly overkill for such a trivial model it's good to work through something simple to focus on the tooling"
      ]
    },
    {
      "cell_type": "code",
      "source": [
        "!cat /proc/cpuinfo"
      ],
      "metadata": {
        "colab": {
          "base_uri": "https://localhost:8080/"
        },
        "id": "pDonUX0td8on",
        "outputId": "9e50e94d-b55a-43f9-e10c-c6fc5042dc70"
      },
      "execution_count": 6,
      "outputs": [
        {
          "output_type": "stream",
          "name": "stdout",
          "text": [
            "processor\t: 0\n",
            "vendor_id\t: GenuineIntel\n",
            "cpu family\t: 6\n",
            "model\t\t: 79\n",
            "model name\t: Intel(R) Xeon(R) CPU @ 2.20GHz\n",
            "stepping\t: 0\n",
            "microcode\t: 0x1\n",
            "cpu MHz\t\t: 2199.998\n",
            "cache size\t: 56320 KB\n",
            "physical id\t: 0\n",
            "siblings\t: 2\n",
            "core id\t\t: 0\n",
            "cpu cores\t: 1\n",
            "apicid\t\t: 0\n",
            "initial apicid\t: 0\n",
            "fpu\t\t: yes\n",
            "fpu_exception\t: yes\n",
            "cpuid level\t: 13\n",
            "wp\t\t: yes\n",
            "flags\t\t: fpu vme de pse tsc msr pae mce cx8 apic sep mtrr pge mca cmov pat pse36 clflush mmx fxsr sse sse2 ss ht syscall nx pdpe1gb rdtscp lm constant_tsc rep_good nopl xtopology nonstop_tsc cpuid tsc_known_freq pni pclmulqdq ssse3 fma cx16 pcid sse4_1 sse4_2 x2apic movbe popcnt aes xsave avx f16c rdrand hypervisor lahf_lm abm 3dnowprefetch invpcid_single ssbd ibrs ibpb stibp fsgsbase tsc_adjust bmi1 hle avx2 smep bmi2 erms invpcid rtm rdseed adx smap xsaveopt arat md_clear arch_capabilities\n",
            "bugs\t\t: cpu_meltdown spectre_v1 spectre_v2 spec_store_bypass l1tf mds swapgs taa\n",
            "bogomips\t: 4399.99\n",
            "clflush size\t: 64\n",
            "cache_alignment\t: 64\n",
            "address sizes\t: 46 bits physical, 48 bits virtual\n",
            "power management:\n",
            "\n",
            "processor\t: 1\n",
            "vendor_id\t: GenuineIntel\n",
            "cpu family\t: 6\n",
            "model\t\t: 79\n",
            "model name\t: Intel(R) Xeon(R) CPU @ 2.20GHz\n",
            "stepping\t: 0\n",
            "microcode\t: 0x1\n",
            "cpu MHz\t\t: 2199.998\n",
            "cache size\t: 56320 KB\n",
            "physical id\t: 0\n",
            "siblings\t: 2\n",
            "core id\t\t: 0\n",
            "cpu cores\t: 1\n",
            "apicid\t\t: 1\n",
            "initial apicid\t: 1\n",
            "fpu\t\t: yes\n",
            "fpu_exception\t: yes\n",
            "cpuid level\t: 13\n",
            "wp\t\t: yes\n",
            "flags\t\t: fpu vme de pse tsc msr pae mce cx8 apic sep mtrr pge mca cmov pat pse36 clflush mmx fxsr sse sse2 ss ht syscall nx pdpe1gb rdtscp lm constant_tsc rep_good nopl xtopology nonstop_tsc cpuid tsc_known_freq pni pclmulqdq ssse3 fma cx16 pcid sse4_1 sse4_2 x2apic movbe popcnt aes xsave avx f16c rdrand hypervisor lahf_lm abm 3dnowprefetch invpcid_single ssbd ibrs ibpb stibp fsgsbase tsc_adjust bmi1 hle avx2 smep bmi2 erms invpcid rtm rdseed adx smap xsaveopt arat md_clear arch_capabilities\n",
            "bugs\t\t: cpu_meltdown spectre_v1 spectre_v2 spec_store_bypass l1tf mds swapgs taa\n",
            "bogomips\t: 4399.99\n",
            "clflush size\t: 64\n",
            "cache_alignment\t: 64\n",
            "address sizes\t: 46 bits physical, 48 bits virtual\n",
            "power management:\n",
            "\n"
          ]
        }
      ]
    },
    {
      "cell_type": "markdown",
      "metadata": {
        "id": "Dvx44mUvnzY0"
      },
      "source": [
        "setup stuff for runtime TPU or CPU"
      ]
    },
    {
      "cell_type": "code",
      "metadata": {
        "id": "Hjkvme7eYYZx"
      },
      "source": [
        "USE_TPU = False\n",
        "\n",
        "if USE_TPU:\n",
        "  import jax\n",
        "  import jax.tools.colab_tpu\n",
        "  jax.tools.colab_tpu.setup_tpu()\n",
        "else:\n",
        "  # x8 cpu devices  \n",
        "  import os\n",
        "  os.environ[\"XLA_FLAGS\"] = '--xla_force_host_platform_device_count=2'"
      ],
      "execution_count": 7,
      "outputs": []
    },
    {
      "cell_type": "code",
      "metadata": {
        "id": "BvJbOLW4YccB",
        "colab": {
          "base_uri": "https://localhost:8080/"
        },
        "outputId": "1d4bb9d3-89f2-4937-8743-1373ee1b3112"
      },
      "source": [
        "import jax\n",
        "jax.devices()\n",
        "num_replicas = len(jax.devices())"
      ],
      "execution_count": 8,
      "outputs": [
        {
          "output_type": "stream",
          "name": "stderr",
          "text": [
            "WARNING:absl:No GPU/TPU found, falling back to CPU. (Set TF_CPP_MIN_LOG_LEVEL=0 and rerun for more info.)\n"
          ]
        }
      ]
    },
    {
      "cell_type": "code",
      "metadata": {
        "id": "4YFomemlh01O"
      },
      "source": [
        "import numpy as np\n",
        "import jax.numpy as jnp\n",
        "import matplotlib.pyplot as plt\n",
        "from jax import make_jaxpr"
      ],
      "execution_count": 9,
      "outputs": []
    },
    {
      "cell_type": "markdown",
      "metadata": {
        "id": "PFPE54T4rGDL"
      },
      "source": [
        "we start by generating training data for a simple line with a bit of noise"
      ]
    },
    {
      "cell_type": "code",
      "metadata": {
        "id": "3cWNrO6_-50b",
        "colab": {
          "base_uri": "https://localhost:8080/",
          "height": 268
        },
        "outputId": "57605809-0e65-4a89-9e72-b06dce4912fd"
      },
      "source": [
        "def y(x, m, b):\n",
        "  return m * x + b\n",
        "\n",
        "datasize = 128\n",
        "x = np.linspace(-10, 10, num=datasize)\n",
        "np.random.shuffle(x)\n",
        "\n",
        "m_true = -1.5\n",
        "b_true = 2.0\n",
        "\n",
        "y_true = y(x, m_true, b_true)\n",
        "\n",
        "noise = ((np.random.rand(*y_true.shape) * 2) - 1) * 3\n",
        "y_true += noise\n",
        "\n",
        "plt.plot(x, y_true, 'o')\n",
        "plt.vlines(0, -12, 12)\n",
        "plt.hlines(0, -12, 12)\n",
        "plt.show()"
      ],
      "execution_count": 10,
      "outputs": [
        {
          "output_type": "display_data",
          "data": {
            "text/plain": [
              "<Figure size 432x288 with 1 Axes>"
            ],
            "image/png": "[encoded data removed]"
          },
          "metadata": {
            "needs_background": "light"
          }
        }
      ]
    },
    {
      "cell_type": "markdown",
      "metadata": {
        "id": "ne9UvrY7cIol"
      },
      "source": [
        "we will be trying to solve for `(m, b)` and can start with some arbitrary values, which are clearly wrong"
      ]
    },
    {
      "cell_type": "code",
      "metadata": {
        "id": "3dJN3zg-APQx",
        "colab": {
          "base_uri": "https://localhost:8080/",
          "height": 268
        },
        "outputId": "ee72b947-88e6-4038-9ebc-3a2d2a97d9c7"
      },
      "source": [
        "m_model = 1.0\n",
        "b_model = 0.0\n",
        "\n",
        "y_pred = y(x, m_model, b_model)\n",
        "plt.plot(x, y_true, 'o')\n",
        "plt.plot(x, y_pred, 'o')\n",
        "plt.vlines(0, -12, 12)\n",
        "plt.hlines(0, -12, 12)\n",
        "plt.show()"
      ],
      "execution_count": 11,
      "outputs": [
        {
          "output_type": "display_data",
          "data": {
            "text/plain": [
              "<Figure size 432x288 with 1 Axes>"
            ],
            "image/png": "[encoded data removed]"
          },
          "metadata": {
            "needs_background": "light"
          }
        }
      ]
    },
    {
      "cell_type": "markdown",
      "metadata": {
        "id": "A5sJH5oAHrSq"
      },
      "source": [
        "we'll start by using `grad` for calculating an update to our model params `(m, b)` with respect to a loss function"
      ]
    },
    {
      "cell_type": "code",
      "metadata": {
        "id": "NFZinhp0Ak9T",
        "colab": {
          "base_uri": "https://localhost:8080/"
        },
        "outputId": "45bf4287-e2c5-4351-dabe-ea688d5d76cc"
      },
      "source": [
        "from jax import grad, jit\n",
        "\n",
        "def sqr_loss(y_true, y_pred):\n",
        "  return jnp.mean((y_true-y_pred)**2)\n",
        "\n",
        "def loss_wrt_params(x, m, b, y_true):\n",
        "  y_pred = y(x, m, b)\n",
        "  return sqr_loss(y_true, y_pred)\n",
        "\n",
        "# note: by dft grad calculates gradients w.r.t the first arg\n",
        "#  but in this case we want it w.r.t. m & b, i.e. args 1 & 2\n",
        "gradient_wrt_loss = jit(grad(loss_wrt_params, argnums=(1, 2)))\n",
        "\n",
        "m_grad, b_grad = gradient_wrt_loss(x, m_true, b_true, y_true)\n",
        "print(\"for true: m_grad\", m_grad , \"b_grad\", b_grad)\n",
        "\n",
        "m_grad, b_grad = gradient_wrt_loss(x, m_model, b_model, y_true)\n",
        "print(\"for model params: m_grad\", m_grad , \"b_grad\", b_grad)"
      ],
      "execution_count": 12,
      "outputs": [
        {
          "output_type": "stream",
          "name": "stdout",
          "text": [
            "for true: m_grad -2.203858 b_grad 0.38934892\n",
            "for model params: m_grad 167.08748 b_grad -3.610651\n"
          ]
        }
      ]
    },
    {
      "cell_type": "markdown",
      "metadata": {
        "id": "Yaz3COkbd3s9"
      },
      "source": [
        "we can use this gradient to run a trivial learning loop"
      ]
    },
    {
      "cell_type": "code",
      "metadata": {
        "id": "aSN8twa5DB5k",
        "colab": {
          "base_uri": "https://localhost:8080/"
        },
        "outputId": "60a24f71-6ebc-4d9f-ebea-06a271d28207"
      },
      "source": [
        "m, b = 1.0, 0.0\n",
        "learning_rate = 0.01\n",
        "\n",
        "print(\"true\", m_true, b_true)\n",
        "for _ in range(30):\n",
        "  m_grad, b_grad = gradient_wrt_loss(x, m_model, b_model, y_true)\n",
        "  m_model -= learning_rate * m_grad \n",
        "  b_model -= learning_rate * b_grad \n",
        "  print(\"grads\", m_grad, b_grad , \"=> model\", m_model, b_model)"
      ],
      "execution_count": 13,
      "outputs": [
        {
          "output_type": "stream",
          "name": "stdout",
          "text": [
            "true -1.5 2.0\n",
            "grads 167.08748 -3.610651 => model -0.6708747 0.03610651\n",
            "grads 53.941635 -3.5384378 => model -1.210291 0.071490884\n",
            "grads 17.41423 -3.4676695 => model -1.3844333 0.10616758\n",
            "grads 5.6219215 -3.398316 => model -1.4406525 0.14015074\n",
            "grads 1.8149496 -3.3303494 => model -1.458802 0.17345424\n",
            "grads 0.58592945 -3.2637424 => model -1.4646612 0.20609167\n",
            "grads 0.18916094 -3.1984677 => model -1.4665529 0.23807634\n",
            "grads 0.061067313 -3.1344984 => model -1.4671636 0.26942134\n",
            "grads 0.01971218 -3.0718083 => model -1.4673607 0.30013943\n",
            "grads 0.0063598454 -3.0103722 => model -1.4674244 0.33024314\n",
            "grads 0.002050072 -2.9501648 => model -1.4674449 0.3597448\n",
            "grads 0.0006609708 -2.8911614 => model -1.4674515 0.3886564\n",
            "grads 0.00021739304 -2.8333385 => model -1.4674536 0.4169898\n",
            "grads 7.161498e-05 -2.7766714 => model -1.4674543 0.4447565\n",
            "grads 2.3335218e-05 -2.721138 => model -1.4674546 0.47196788\n",
            "grads 7.1674585e-06 -2.6667156 => model -1.4674547 0.49863502\n",
            "grads -5.066395e-07 -2.613381 => model -1.4674547 0.5247688\n",
            "grads -1.5348196e-06 -2.5611134 => model -1.4674547 0.55038\n",
            "grads -8.046627e-07 -2.509891 => model -1.4674547 0.5754789\n",
            "grads -5.736947e-07 -2.4596932 => model -1.4674547 0.60007584\n",
            "grads -7.599592e-07 -2.4104996 => model -1.4674547 0.62418085\n",
            "grads -1.0877848e-06 -2.3622894 => model -1.4674547 0.6478037\n",
            "grads -5.2154064e-07 -2.3150434 => model -1.4674547 0.67095417\n",
            "grads -4.991889e-07 -2.2687426 => model -1.4674547 0.6936416\n",
            "grads -9.164214e-07 -2.223368 => model -1.4674547 0.71587527\n",
            "grads -9.164214e-07 -2.1789007 => model -1.4674547 0.7376643\n",
            "grads -9.0897083e-07 -2.1353226 => model -1.4674547 0.7590175\n",
            "grads -9.313226e-07 -2.092616 => model -1.4674547 0.7799437\n",
            "grads -7.599592e-07 -2.0507636 => model -1.4674547 0.80045134\n",
            "grads -7.748604e-07 -2.0097485 => model -1.4674547 0.82054883\n"
          ]
        }
      ]
    },
    {
      "cell_type": "markdown",
      "metadata": {
        "id": "ar4lT38IBGzj"
      },
      "source": [
        "## pytrees\n",
        "\n",
        "before we start though we should know that most models have more than 2 params. another thing we can do then is make use of the fact that the fundamental jax operators can work with dictionaries of params, called [pytrees](https://jax.readthedocs.io/en/latest/pytrees.html). this allows us to work with a single `params` object rather than clumsily having to manage single parameters"
      ]
    },
    {
      "cell_type": "code",
      "metadata": {
        "id": "tdjqBuWnBUaU"
      },
      "source": [
        "def y(params, x):\n",
        "  return params['m'] * x + params['b']\n",
        "\n",
        "def mean_sqrd_loss(params, x, y_true):\n",
        "  y_pred = y(params, x)\n",
        "  loss = (y_pred - y_true) ** 2\n",
        "  return jnp.mean(loss)"
      ],
      "execution_count": 14,
      "outputs": []
    },
    {
      "cell_type": "markdown",
      "metadata": {
        "id": "cCoWRC0n3JYL"
      },
      "source": [
        "note how transforms like `grad` are pytree aware and it return gradients in the same structure as the params"
      ]
    },
    {
      "cell_type": "code",
      "metadata": {
        "id": "pgRgcL4CwTWq",
        "colab": {
          "base_uri": "https://localhost:8080/"
        },
        "outputId": "fac84632-dfcd-4cae-fde1-2c5153227d20"
      },
      "source": [
        "true_params = {'m': m_true, 'b': b_true}\n",
        "model_params = {'m': 1.0, 'b': 0.0}\n",
        "\n",
        "# recall signature: mean_sqrd_loss(params, x, y_true)\n",
        "# note: grad takes gradients with respect to first arg\n",
        "grads = jit(grad(mean_sqrd_loss))\n",
        "\n",
        "print(\"grads w.r.t true_params\", grads(true_params, x, y_true))\n",
        "print(\"grads w.r.t model_params\", grads(model_params, x, y_true))"
      ],
      "execution_count": 15,
      "outputs": [
        {
          "output_type": "stream",
          "name": "stdout",
          "text": [
            "grads w.r.t true_params {'b': DeviceArray(0.38934892, dtype=float32, weak_type=True), 'm': DeviceArray(-2.203858, dtype=float32, weak_type=True)}\n",
            "grads w.r.t model_params {'b': DeviceArray(-3.610651, dtype=float32, weak_type=True), 'm': DeviceArray(167.08748, dtype=float32, weak_type=True)}\n"
          ]
        }
      ]
    },
    {
      "cell_type": "markdown",
      "metadata": {
        "id": "auRIYnYXZW3I"
      },
      "source": [
        "##pmap\n",
        "\n",
        "let's run `pmap` to calc gradients in parallel. we'll reshape the input `(x, y)` data so we can `pmap` it across the 8 devices. we won't `pmap` across the model params `m` or `b`. this is effectively running a data parallel approach where each device runs the same model, but on 1/8th of the data. "
      ]
    },
    {
      "cell_type": "code",
      "metadata": {
        "id": "U75uXTIAYxaS"
      },
      "source": [
        "# reshape x and y_true to 8 sets of 16 examples\n",
        "shardsize = datasize//num_replicas\n",
        "x = x.reshape((num_replicas, shardsize))\n",
        "y_true = y_true.reshape((num_replicas, shardsize))"
      ],
      "execution_count": 16,
      "outputs": []
    },
    {
      "cell_type": "markdown",
      "metadata": {
        "id": "XbvGd_gn7vhp"
      },
      "source": [
        "if we pmap over the gradient calc directly what we end up getting is the 8 sets of gradients, each of which corresponds to the 16 examples that were provided. note how this represents the fundamental data parallelism approach."
      ]
    },
    {
      "cell_type": "code",
      "metadata": {
        "id": "GcgbSkCv7n6o",
        "colab": {
          "base_uri": "https://localhost:8080/"
        },
        "outputId": "64a336eb-1d03-4dae-a4e8-facacb7e9af7"
      },
      "source": [
        "from jax import pmap\n",
        "\n",
        "# recall signature: mean_sqrd_loss(params, x, y_true)\n",
        "p_grads = pmap(grad(mean_sqrd_loss), in_axes=(None, 0, 0))\n",
        "p_grads(model_params, x, y_true)"
      ],
      "execution_count": 17,
      "outputs": [
        {
          "output_type": "execute_result",
          "data": {
            "text/plain": [
              "{'b': ShardedDeviceArray([-4.935777, -2.285525], dtype=float32, weak_type=True),\n",
              " 'm': ShardedDeviceArray([163.16254, 171.01242], dtype=float32, weak_type=True)}"
            ]
          },
          "metadata": {},
          "execution_count": 17
        }
      ]
    },
    {
      "cell_type": "markdown",
      "metadata": {
        "id": "Qtuu-X6UIq0P"
      },
      "source": [
        "at this point we have the gradients for each of the 8 batches of 16. we can sum these gradients and use them for an update."
      ]
    },
    {
      "cell_type": "code",
      "metadata": {
        "id": "gMs1WBAkI5K_",
        "colab": {
          "base_uri": "https://localhost:8080/"
        },
        "outputId": "3ac75898-7187-4de4-f527-b95d934b6038"
      },
      "source": [
        "g = p_grads(model_params, x, y_true)\n",
        "g = {k: jnp.sum(v) for k, v in g.items()}\n",
        "g"
      ],
      "execution_count": 18,
      "outputs": [
        {
          "output_type": "execute_result",
          "data": {
            "text/plain": [
              "{'b': DeviceArray(-7.221302, dtype=float32),\n",
              " 'm': DeviceArray(334.17496, dtype=float32)}"
            ]
          },
          "metadata": {},
          "execution_count": 18
        }
      ]
    },
    {
      "cell_type": "markdown",
      "metadata": {
        "id": "j5g5FfJXJNYJ"
      },
      "source": [
        "this kind of application of a function (like sum) to elements of a dictionary is pretty common when you represent params in dictionaries. to support operations on these jax provides a selection of `tree_utils` including `tree_map`. tree_map (and friends) can handle all kinds of potentially nested structures and run their operation on the leafs of the dict structure."
      ]
    },
    {
      "cell_type": "code",
      "metadata": {
        "id": "hgRAZNR5JwPc",
        "colab": {
          "base_uri": "https://localhost:8080/"
        },
        "outputId": "d74b5ce8-6109-409b-d842-a32c7a874466"
      },
      "source": [
        "from jax.tree_util import tree_map \n",
        "\n",
        "g = p_grads(model_params, x, y_true)\n",
        "g = tree_map(jnp.sum, g)\n",
        "g"
      ],
      "execution_count": 19,
      "outputs": [
        {
          "output_type": "execute_result",
          "data": {
            "text/plain": [
              "{'b': DeviceArray(-7.221302, dtype=float32),\n",
              " 'm': DeviceArray(334.17496, dtype=float32)}"
            ]
          },
          "metadata": {},
          "execution_count": 19
        }
      ]
    },
    {
      "cell_type": "markdown",
      "metadata": {
        "id": "faOX8MgbJM6O"
      },
      "source": [
        "turns out this sum across all the 8 devices is something we can also do _inside_ the `pmap` call, not just after it. so far we've only used pmap to do independent calculations but there are a number of parallel ops we can call that operate _across_ the devices. in this case we can use `psum`. \n",
        "\n",
        "note how since `pmap` always returns a sharded value based on the #devices it broadcasts the gradients out to a replicated (8, 1) array. "
      ]
    },
    {
      "cell_type": "code",
      "metadata": {
        "id": "yYbFKCcPFtjd",
        "colab": {
          "base_uri": "https://localhost:8080/"
        },
        "outputId": "49055bbe-0f2c-4a34-c735-be169fd1b61d"
      },
      "source": [
        "from jax.lax import psum\n",
        "\n",
        "def p_grads(params, x, y_true):\n",
        "  grads = jit(grad(mean_sqrd_loss))(params, x, y_true)\n",
        "  grads = tree_map(lambda v: psum(v, 'device'), grads)\n",
        "  return grads\n",
        "\n",
        "p_grads = pmap(p_grads, in_axes=(None, 0, 0), axis_name='device')\n",
        "\n",
        "model_params = {'m': 1.0, 'b': 0.0}\n",
        "p_grads(model_params, x, y_true)"
      ],
      "execution_count": 20,
      "outputs": [
        {
          "output_type": "execute_result",
          "data": {
            "text/plain": [
              "{'b': ShardedDeviceArray([-7.221302, -7.221302], dtype=float32),\n",
              " 'm': ShardedDeviceArray([334.17496, 334.17496], dtype=float32)}"
            ]
          },
          "metadata": {},
          "execution_count": 20
        }
      ]
    },
    {
      "cell_type": "markdown",
      "metadata": {
        "id": "cAAamoVCI1JN"
      },
      "source": [
        "we've done the forward pass, the loss calc and now gradients all in parallel. what about the actual model update? we can do that in the `pmap` call too! we use the `tree_multimap` helper to update the params (a pytree) from the gradients (another pytree)"
      ]
    },
    {
      "cell_type": "code",
      "metadata": {
        "id": "7v0N3huqMWxd",
        "colab": {
          "base_uri": "https://localhost:8080/"
        },
        "outputId": "48f1a4b9-99eb-436a-ea89-cc4a2b622a2f"
      },
      "source": [
        "from jax.tree_util import tree_multimap\n",
        "\n",
        "def p_update(params, x, y_true):\n",
        "  # calculate gradients summing across all devices\n",
        "  grads = jit(grad(mean_sqrd_loss))(params, x, y_true)\n",
        "  grads = tree_map(lambda v: psum(v, 'device'), grads)  \n",
        "  # apply update\n",
        "  def update(p, g):  \n",
        "    learning_rate = 0.001\n",
        "    return p - learning_rate * g\n",
        "  new_params = tree_multimap(update, params, grads)\n",
        "  # return new params\n",
        "  return new_params\n",
        "\n",
        "p_update = pmap(p_update, in_axes=(None, 0, 0), axis_name='device')\n",
        "\n",
        "model_params = {'m': 1.0, 'b': 0.0}\n",
        "p_update(model_params, x, y_true)"
      ],
      "execution_count": 21,
      "outputs": [
        {
          "output_type": "stream",
          "name": "stderr",
          "text": [
            "/usr/local/lib/python3.7/dist-packages/jax/_src/tree_util.py:189: FutureWarning: jax.tree_util.tree_multimap() is deprecated. Please use jax.tree_util.tree_map() instead as a drop-in replacement.\n",
            "  'instead as a drop-in replacement.', FutureWarning)\n"
          ]
        },
        {
          "output_type": "execute_result",
          "data": {
            "text/plain": [
              "{'b': ShardedDeviceArray([0.0072213, 0.0072213], dtype=float32),\n",
              " 'm': ShardedDeviceArray([0.665825, 0.665825], dtype=float32)}"
            ]
          },
          "metadata": {},
          "execution_count": 21
        }
      ]
    },
    {
      "cell_type": "markdown",
      "metadata": {
        "id": "EeBq8a6mNzer"
      },
      "source": [
        "again notice how in the return values the params are being promoted from scalars to sharded arrays . if we want to include this in some kind of `params = update(params)` kind of loop we need to also _start_ with a sharded set. we can do this by replicating the single model params across all the devices."
      ]
    },
    {
      "cell_type": "code",
      "metadata": {
        "id": "Exk_R0uBM0MU",
        "colab": {
          "base_uri": "https://localhost:8080/"
        },
        "outputId": "239407b1-2d30-4f55-a2bb-5a406bc8af32"
      },
      "source": [
        "def shard(x):\n",
        "  return pmap(lambda v: v)(x)\n",
        "\n",
        "def replicate(x, replicas=num_replicas):  \n",
        "  replicated = jnp.stack([x] * replicas)\n",
        "  return shard(replicated)\n",
        "\n",
        "model_params = {'m': 1.0, 'b': 0.0}\n",
        "model_params = tree_map(replicate, model_params)\n",
        "model_params"
      ],
      "execution_count": 22,
      "outputs": [
        {
          "output_type": "execute_result",
          "data": {
            "text/plain": [
              "{'b': ShardedDeviceArray([0., 0.], dtype=float32, weak_type=True),\n",
              " 'm': ShardedDeviceArray([1., 1.], dtype=float32, weak_type=True)}"
            ]
          },
          "metadata": {},
          "execution_count": 22
        }
      ]
    },
    {
      "cell_type": "markdown",
      "metadata": {
        "id": "sZIYAajm4Yv6"
      },
      "source": [
        "and, while we're sharding, we might as well explicitly shard x and y too which has the nice side effect of replicating across the devices"
      ]
    },
    {
      "cell_type": "code",
      "metadata": {
        "id": "cVbER2R74XGq",
        "colab": {
          "base_uri": "https://localhost:8080/"
        },
        "outputId": "5cb75754-06a9-468a-e5ac-9230f3fa7b74"
      },
      "source": [
        "x = shard(x)\n",
        "y_true = shard(y_true)\n",
        "  \n",
        "x.shape, type(x)"
      ],
      "execution_count": 23,
      "outputs": [
        {
          "output_type": "execute_result",
          "data": {
            "text/plain": [
              "((2, 64), jaxlib.xla_extension.pmap_lib.ShardedDeviceArray)"
            ]
          },
          "metadata": {},
          "execution_count": 23
        }
      ]
    },
    {
      "cell_type": "markdown",
      "metadata": {
        "id": "EF9KDsyH4tPa"
      },
      "source": [
        "we now have everything we need to run this in across the eight devices in an as parallel way as possible\n",
        "\n",
        "* the model params, x and y, are replicated across all 8 devices. i.e. all 8 devices have a copy of the same params.\n",
        "* the data is also sharded aross the 8 devices. i.e. each device has 1/8th of the original data\n",
        "* the forward pass, loss, gradient calc & param update is done in parallel with a minimal combine step for gradients.\n"
      ]
    },
    {
      "cell_type": "code",
      "metadata": {
        "id": "ve68pTe81hgC",
        "colab": {
          "base_uri": "https://localhost:8080/"
        },
        "outputId": "84621106-79c5-4691-d66f-fdf779d58d63"
      },
      "source": [
        "from jax import value_and_grad\n",
        "\n",
        "def p_update(params, x, y_true):\n",
        "  # calculate gradients\n",
        "  loss, grads = jit(value_and_grad(mean_sqrd_loss))(params, x, y_true)\n",
        "  # do all reduce sum across all replicas\n",
        "  grads = tree_map(lambda v: psum(v, 'device'), grads)  \n",
        "  # apply update\n",
        "  def update(p, g):  \n",
        "    learning_rate = 0.001\n",
        "    return p - learning_rate * g\n",
        "  new_params = tree_multimap(update, params, grads)\n",
        "  return new_params, loss\n",
        "\n",
        "# note: we pmap across _all_ args now; model_params, x and y\n",
        "p_update = pmap(p_update, in_axes=(0, 0, 0), axis_name='device')\n",
        "\n",
        "for i in range(20):\n",
        "  model_params, loss = p_update(model_params, x, y_true)  \n",
        "  print(\"step\", i , \"loss\", jnp.mean(loss), \n",
        "        \"m\", model_params['m'][0] , \"b\", model_params['b'][0])"
      ],
      "execution_count": 24,
      "outputs": [
        {
          "output_type": "stream",
          "name": "stderr",
          "text": [
            "/usr/local/lib/python3.7/dist-packages/jax/_src/tree_util.py:189: FutureWarning: jax.tree_util.tree_multimap() is deprecated. Please use jax.tree_util.tree_map() instead as a drop-in replacement.\n",
            "  'instead as a drop-in replacement.', FutureWarning)\n"
          ]
        },
        {
          "output_type": "stream",
          "name": "stdout",
          "text": [
            "step 0 loss 212.40942 m 0.665825 b 0.0072213025\n",
            "step 1 loss 160.328 m 0.37690836 b 0.014413719\n",
            "step 2 loss 121.39202 m 0.1271206 b 0.021577366\n",
            "step 3 loss 92.282 m -0.08883763 b 0.028712358\n",
            "step 4 loss 70.5167 m -0.27554798 b 0.03581881\n",
            "step 5 loss 54.241447 m -0.43697158 b 0.042896837\n",
            "step 6 loss 42.069927 m -0.5765331 b 0.049946554\n",
            "step 7 loss 32.965893 m -0.6971933 b 0.05696807\n",
            "step 8 loss 26.154783 m -0.8015122 b 0.0639615\n",
            "step 9 loss 21.057625 m -0.89170283 b 0.07092696\n",
            "step 10 loss 17.241653 m -0.9696787 b 0.07786455\n",
            "step 11 loss 14.383387 m -1.037094 b 0.0847744\n",
            "step 12 loss 12.241029 m -1.0953791 b 0.0916566\n",
            "step 13 loss 10.63384 m -1.1457704 b 0.09851128\n",
            "step 14 loss 9.426725 m -1.1893371 b 0.105338536\n",
            "step 15 loss 8.518703 m -1.2270035 b 0.11213849\n",
            "step 16 loss 7.8342905 m -1.2595685 b 0.11891124\n",
            "step 17 loss 7.317067 m -1.2877232 b 0.12565689\n",
            "step 18 loss 6.9248567 m -1.3120648 b 0.13237557\n",
            "step 19 loss 6.626137 m -1.3331097 b 0.13906737\n"
          ]
        }
      ]
    },
    {
      "cell_type": "markdown",
      "metadata": {
        "id": "hJu_aPVahZ2m"
      },
      "source": [
        "what a way to solve `y=mx+b` !!"
      ]
    }
  ]
}