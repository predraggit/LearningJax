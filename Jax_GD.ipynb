{
  "nbformat": 4,
  "nbformat_minor": 0,
  "metadata": {
    "colab": {
      "name": "Jax.GD.ipynb",
      "provenance": [],
      "collapsed_sections": [],
      "include_colab_link": true
    },
    "kernelspec": {
      "display_name": "Python 3",
      "name": "python3"
    },
    "accelerator": "TPU"
  },
  "cells": [
    {
      "cell_type": "markdown",
      "metadata": {
        "id": "view-in-github",
        "colab_type": "text"
      },
      "source": [
        "<a href=\"https://colab.research.google.com/github/rahuldave/LearningJax/blob/main/Jax_GD.ipynb\" target=\"_parent\"><img src=\"https://colab.research.google.com/assets/colab-badge.svg\" alt=\"Open In Colab\"/></a>"
      ]
    },
    {
      "cell_type": "markdown",
      "metadata": {
        "id": "AlHg1tBH7eiy"
      },
      "source": [
        "# Machine Learning using Jax\n",
        "\n",
        "This notebook is taken from \n",
        "_the [solving y=mx+b... with jax on a tpu pod slice](http://matpalm.com/blog/ymxb_pod_slice/) blog series_\n",
        "\n",
        "Here we will fit a linear regression model using MSE. We'll do this both on a single device using `vmap` as well as across `num_replicas` devices. We'll make some sharding of the input data here in addition to the output data, so we can support a seamless Gradient Descent loop."
      ]
    },
    {
      "cell_type": "code",
      "source": [
        "!cat /proc/cpuinfo"
      ],
      "metadata": {
        "colab": {
          "base_uri": "https://localhost:8080/"
        },
        "id": "pDonUX0td8on",
        "outputId": "8a7944ea-4bae-4cef-e2fe-649ff47a9d80"
      },
      "execution_count": 1,
      "outputs": [
        {
          "output_type": "stream",
          "name": "stdout",
          "text": [
            "processor\t: 0\n",
            "vendor_id\t: GenuineIntel\n",
            "cpu family\t: 6\n",
            "model\t\t: 79\n",
            "model name\t: Intel(R) Xeon(R) CPU @ 2.20GHz\n",
            "stepping\t: 0\n",
            "microcode\t: 0x1\n",
            "cpu MHz\t\t: 2199.998\n",
            "cache size\t: 56320 KB\n",
            "physical id\t: 0\n",
            "siblings\t: 2\n",
            "core id\t\t: 0\n",
            "cpu cores\t: 1\n",
            "apicid\t\t: 0\n",
            "initial apicid\t: 0\n",
            "fpu\t\t: yes\n",
            "fpu_exception\t: yes\n",
            "cpuid level\t: 13\n",
            "wp\t\t: yes\n",
            "flags\t\t: fpu vme de pse tsc msr pae mce cx8 apic sep mtrr pge mca cmov pat pse36 clflush mmx fxsr sse sse2 ss ht syscall nx pdpe1gb rdtscp lm constant_tsc rep_good nopl xtopology nonstop_tsc cpuid tsc_known_freq pni pclmulqdq ssse3 fma cx16 pcid sse4_1 sse4_2 x2apic movbe popcnt aes xsave avx f16c rdrand hypervisor lahf_lm abm 3dnowprefetch invpcid_single ssbd ibrs ibpb stibp fsgsbase tsc_adjust bmi1 hle avx2 smep bmi2 erms invpcid rtm rdseed adx smap xsaveopt arat md_clear arch_capabilities\n",
            "bugs\t\t: cpu_meltdown spectre_v1 spectre_v2 spec_store_bypass l1tf mds swapgs taa\n",
            "bogomips\t: 4399.99\n",
            "clflush size\t: 64\n",
            "cache_alignment\t: 64\n",
            "address sizes\t: 46 bits physical, 48 bits virtual\n",
            "power management:\n",
            "\n",
            "processor\t: 1\n",
            "vendor_id\t: GenuineIntel\n",
            "cpu family\t: 6\n",
            "model\t\t: 79\n",
            "model name\t: Intel(R) Xeon(R) CPU @ 2.20GHz\n",
            "stepping\t: 0\n",
            "microcode\t: 0x1\n",
            "cpu MHz\t\t: 2199.998\n",
            "cache size\t: 56320 KB\n",
            "physical id\t: 0\n",
            "siblings\t: 2\n",
            "core id\t\t: 0\n",
            "cpu cores\t: 1\n",
            "apicid\t\t: 1\n",
            "initial apicid\t: 1\n",
            "fpu\t\t: yes\n",
            "fpu_exception\t: yes\n",
            "cpuid level\t: 13\n",
            "wp\t\t: yes\n",
            "flags\t\t: fpu vme de pse tsc msr pae mce cx8 apic sep mtrr pge mca cmov pat pse36 clflush mmx fxsr sse sse2 ss ht syscall nx pdpe1gb rdtscp lm constant_tsc rep_good nopl xtopology nonstop_tsc cpuid tsc_known_freq pni pclmulqdq ssse3 fma cx16 pcid sse4_1 sse4_2 x2apic movbe popcnt aes xsave avx f16c rdrand hypervisor lahf_lm abm 3dnowprefetch invpcid_single ssbd ibrs ibpb stibp fsgsbase tsc_adjust bmi1 hle avx2 smep bmi2 erms invpcid rtm rdseed adx smap xsaveopt arat md_clear arch_capabilities\n",
            "bugs\t\t: cpu_meltdown spectre_v1 spectre_v2 spec_store_bypass l1tf mds swapgs taa\n",
            "bogomips\t: 4399.99\n",
            "clflush size\t: 64\n",
            "cache_alignment\t: 64\n",
            "address sizes\t: 46 bits physical, 48 bits virtual\n",
            "power management:\n",
            "\n"
          ]
        }
      ]
    },
    {
      "cell_type": "markdown",
      "metadata": {
        "id": "Dvx44mUvnzY0"
      },
      "source": [
        "setup stuff for runtime TPU or CPU"
      ]
    },
    {
      "cell_type": "code",
      "metadata": {
        "id": "Hjkvme7eYYZx"
      },
      "source": [
        "USE_TPU = True\n",
        "\n",
        "if USE_TPU:\n",
        "  import jax\n",
        "  import jax.tools.colab_tpu\n",
        "  jax.tools.colab_tpu.setup_tpu()\n",
        "else:\n",
        "  # x8 cpu devices  \n",
        "  import os\n",
        "  os.environ[\"XLA_FLAGS\"] = '--xla_force_host_platform_device_count=2'"
      ],
      "execution_count": 2,
      "outputs": []
    },
    {
      "cell_type": "code",
      "metadata": {
        "id": "BvJbOLW4YccB",
        "colab": {
          "base_uri": "https://localhost:8080/"
        },
        "outputId": "8d5210f6-e3ad-4584-c6bd-9f767af73c8f"
      },
      "source": [
        "import jax\n",
        "print(repr(jax.devices()))\n",
        "num_replicas = len(jax.devices())"
      ],
      "execution_count": 3,
      "outputs": [
        {
          "output_type": "stream",
          "name": "stdout",
          "text": [
            "[TpuDevice(id=0, process_index=0, coords=(0,0,0), core_on_chip=0), TpuDevice(id=1, process_index=0, coords=(0,0,0), core_on_chip=1), TpuDevice(id=2, process_index=0, coords=(1,0,0), core_on_chip=0), TpuDevice(id=3, process_index=0, coords=(1,0,0), core_on_chip=1), TpuDevice(id=4, process_index=0, coords=(0,1,0), core_on_chip=0), TpuDevice(id=5, process_index=0, coords=(0,1,0), core_on_chip=1), TpuDevice(id=6, process_index=0, coords=(1,1,0), core_on_chip=0), TpuDevice(id=7, process_index=0, coords=(1,1,0), core_on_chip=1)]\n"
          ]
        }
      ]
    },
    {
      "cell_type": "code",
      "metadata": {
        "id": "4YFomemlh01O"
      },
      "source": [
        "import numpy as np\n",
        "import jax.numpy as jnp\n",
        "import matplotlib.pyplot as plt\n",
        "from jax import make_jaxpr"
      ],
      "execution_count": 4,
      "outputs": []
    },
    {
      "cell_type": "markdown",
      "metadata": {
        "id": "PFPE54T4rGDL"
      },
      "source": [
        "## 1: Generate some data\n",
        "\n",
        "Let us generate some training data first. We'll add in some noise"
      ]
    },
    {
      "cell_type": "code",
      "metadata": {
        "id": "3cWNrO6_-50b",
        "colab": {
          "base_uri": "https://localhost:8080/",
          "height": 267
        },
        "outputId": "7edba706-cc49-4c4f-94e5-d84eed1b0ac1"
      },
      "source": [
        "def y(x, m, b):\n",
        "  return m * x + b\n",
        "\n",
        "datasize = 128\n",
        "x = np.linspace(-10, 10, num=datasize)\n",
        "np.random.shuffle(x)\n",
        "\n",
        "m_true = -1.5\n",
        "b_true = 2.0\n",
        "\n",
        "y_true = y(x, m_true, b_true)\n",
        "\n",
        "noise = ((np.random.rand(*y_true.shape) * 2) - 1) * 3\n",
        "y_true += noise\n",
        "\n",
        "plt.plot(x, y_true, 'o')\n",
        "plt.show()"
      ],
      "execution_count": 22,
      "outputs": [
        {
          "output_type": "display_data",
          "data": {
            "text/plain": [
              "<Figure size 432x288 with 1 Axes>"
            ],
            "image/png": "[encoded data removed]"
          },
          "metadata": {
            "needs_background": "light"
          }
        }
      ]
    },
    {
      "cell_type": "markdown",
      "metadata": {
        "id": "ne9UvrY7cIol"
      },
      "source": [
        "Let us set up initial position in parameter space of (m, b). This initial point corresponds to a 45 degree line fot which is clearly bad."
      ]
    },
    {
      "cell_type": "code",
      "metadata": {
        "id": "3dJN3zg-APQx",
        "colab": {
          "base_uri": "https://localhost:8080/",
          "height": 267
        },
        "outputId": "6cdccfa0-abc2-4249-9557-9e8e30e69e4b"
      },
      "source": [
        "m_model = 1.0\n",
        "b_model = 0.0\n",
        "\n",
        "y_pred = y(x, m_model, b_model)\n",
        "plt.plot(x, y_true, 'o')\n",
        "plt.plot(x, y_pred, 'o')\n",
        "plt.show()"
      ],
      "execution_count": 23,
      "outputs": [
        {
          "output_type": "display_data",
          "data": {
            "text/plain": [
              "<Figure size 432x288 with 1 Axes>"
            ],
            "image/png": "[encoded data removed]"
          },
          "metadata": {
            "needs_background": "light"
          }
        }
      ]
    },
    {
      "cell_type": "markdown",
      "metadata": {
        "id": "A5sJH5oAHrSq"
      },
      "source": [
        "## 2: Set up a loss function and get its gradient\n",
        "\n",
        "We'll define our loss function in terms of our parameters, so that we can calulate the gradient with respect to them."
      ]
    },
    {
      "cell_type": "code",
      "metadata": {
        "id": "NFZinhp0Ak9T"
      },
      "source": [
        "from jax import grad, jit\n",
        "\n",
        "def sqr_loss(y_true, y_pred):\n",
        "  return jnp.mean((y_true-y_pred)**2)\n",
        "\n",
        "def loss_wrt_params(x, m, b, y_true):\n",
        "  y_pred = y(x, m, b)\n",
        "  return sqr_loss(y_true, y_pred)\n",
        "\n",
        "# note: by dft grad calculates gradients w.r.t the first arg\n",
        "#  but in this case we want it w.r.t. m & b, i.e. args 1 & 2\n",
        "gradient_wrt_loss = jit(grad(loss_wrt_params, argnums=(1, 2)))\n"
      ],
      "execution_count": 24,
      "outputs": []
    },
    {
      "cell_type": "markdown",
      "source": [
        "Notice the function composition. We jitted on the grad on the loss function. The `argnums=(1, 2)` describe which arguments are the parameters in the loss function `loss_wrt_params`. Here, the second and third arguments.\n",
        "\n",
        "We can calculate the gradient at the true model parameters as well as the initial starting point in parameter space."
      ],
      "metadata": {
        "id": "LrjSxB3XSmVQ"
      }
    },
    {
      "cell_type": "code",
      "source": [
        "m_grad, b_grad = gradient_wrt_loss(x, m_true, b_true, y_true)\n",
        "print(\"for true: m_grad\", m_grad , \"b_grad\", b_grad)\n",
        "\n",
        "m_grad, b_grad = gradient_wrt_loss(x, m_model, b_model, y_true)\n",
        "print(\"for model params: m_grad\", m_grad , \"b_grad\", b_grad)"
      ],
      "metadata": {
        "colab": {
          "base_uri": "https://localhost:8080/"
        },
        "id": "5AC0O8OKSnH5",
        "outputId": "e0fde4ec-6122-414a-e958-82029503dbea"
      },
      "execution_count": 25,
      "outputs": [
        {
          "output_type": "stream",
          "name": "stdout",
          "text": [
            "for true: m_grad 0.8275 b_grad -0.06965329\n",
            "for model params: m_grad 170.11884 b_grad -4.069654\n"
          ]
        }
      ]
    },
    {
      "cell_type": "markdown",
      "metadata": {
        "id": "Yaz3COkbd3s9"
      },
      "source": [
        "Finally this gradient can be used in a for loop to implement gradient descent!"
      ]
    },
    {
      "cell_type": "code",
      "metadata": {
        "id": "aSN8twa5DB5k",
        "colab": {
          "base_uri": "https://localhost:8080/"
        },
        "outputId": "cee81153-f8a9-4bc6-81ba-06e621fa9b2a"
      },
      "source": [
        "m, b = 1.0, 0.0\n",
        "learning_rate = 0.01\n",
        "\n",
        "print(\"true\", m_true, b_true)\n",
        "for _ in range(30):\n",
        "  m_grad, b_grad = gradient_wrt_loss(x, m_model, b_model, y_true)\n",
        "  m_model -= learning_rate * m_grad \n",
        "  b_model -= learning_rate * b_grad \n",
        "  print(\"grads\", m_grad, b_grad , \"=> model\", m_model, b_model)"
      ],
      "execution_count": 26,
      "outputs": [
        {
          "output_type": "stream",
          "name": "stdout",
          "text": [
            "true -1.5 2.0\n",
            "grads 170.11884 -4.069654 => model -0.7011883 0.04069654\n",
            "grads 54.920258 -3.988261 => model -1.2503909 0.08057915\n",
            "grads 17.730167 -3.908495 => model -1.4276925 0.119664095\n",
            "grads 5.723911 -3.830325 => model -1.4849316 0.15796734\n",
            "grads 1.8478823 -3.7537184 => model -1.5034105 0.19550453\n",
            "grads 0.5965558 -3.678644 => model -1.509376 0.23229097\n",
            "grads 0.19258726 -3.6050706 => model -1.5113019 0.26834166\n",
            "grads 0.062177062 -3.5329704 => model -1.5119237 0.30367136\n",
            "grads 0.020069182 -3.4623103 => model -1.5121244 0.33829445\n",
            "grads 0.006476879 -3.393065 => model -1.5121891 0.3722251\n",
            "grads 0.0020920038 -3.325204 => model -1.51221 0.40547714\n",
            "grads 0.00067955256 -3.2586987 => model -1.5122168 0.43806413\n",
            "grads 0.00022101402 -3.1935244 => model -1.5122191 0.46999937\n",
            "grads 6.657839e-05 -3.1296546 => model -1.5122198 0.5012959\n",
            "grads 1.8715858e-05 -3.0670617 => model -1.51222 0.53196657\n",
            "grads 2.3245811e-06 -3.0057197 => model -1.51222 0.56202376\n",
            "grads 1.7881393e-06 -2.9456053 => model -1.51222 0.59147984\n",
            "grads 1.4901161e-06 -2.8866937 => model -1.51222 0.6203468\n",
            "grads 2.2053719e-06 -2.8289592 => model -1.51222 0.6486364\n",
            "grads 2.1457672e-06 -2.7723799 => model -1.51222 0.6763602\n",
            "grads 1.7285347e-06 -2.7169323 => model -1.51222 0.70352954\n",
            "grads 2.1457672e-06 -2.662594 => model -1.51222 0.73015547\n",
            "grads 2.1457672e-06 -2.609342 => model -1.51222 0.7562489\n",
            "grads 2.5331974e-06 -2.5571558 => model -1.51222 0.7818205\n",
            "grads 2.503395e-06 -2.5060122 => model -1.51222 0.8068806\n",
            "grads 2.0861626e-06 -2.4558916 => model -1.51222 0.8314395\n",
            "grads 3.0994415e-06 -2.4067743 => model -1.51222 0.85550725\n",
            "grads 2.6524067e-06 -2.3586392 => model -1.51222 0.87909365\n",
            "grads 2.592802e-06 -2.3114662 => model -1.51222 0.9022083\n",
            "grads 2.2947788e-06 -2.2652369 => model -1.51222 0.9248607\n"
          ]
        }
      ]
    },
    {
      "cell_type": "markdown",
      "metadata": {
        "id": "ar4lT38IBGzj"
      },
      "source": [
        "## 2: pytrees..making the model easier to write\n",
        "\n",
        "If we were using a MLP instead of a linear regressor, we might have millions of parameters. We're not going to create millions of arguments. For this reason, jax provides a very nice concept of [`pytrees`](https://jax.readthedocs.io/en/latest/pytrees.html). which is a container structure for the parameters. Specifically we will use a dictionary of params.\n",
        "\n",
        "Let's rewrite the model and run it."
      ]
    },
    {
      "cell_type": "code",
      "metadata": {
        "id": "tdjqBuWnBUaU"
      },
      "source": [
        "def y(params, x):\n",
        "  return params['m'] * x + params['b']\n",
        "\n",
        "def mean_sqrd_loss(params, x, y_true):\n",
        "  y_pred = y(params, x)\n",
        "  loss = (y_pred - y_true) ** 2\n",
        "  return jnp.mean(loss)"
      ],
      "execution_count": 27,
      "outputs": []
    },
    {
      "cell_type": "markdown",
      "metadata": {
        "id": "cCoWRC0n3JYL"
      },
      "source": [
        "Now function transforms like `grad` are `pytree` aware. They will return gradients with the same structure as the input params"
      ]
    },
    {
      "cell_type": "code",
      "metadata": {
        "id": "pgRgcL4CwTWq",
        "colab": {
          "base_uri": "https://localhost:8080/"
        },
        "outputId": "0f5a4747-b785-4caa-e5c0-e66ffd932bd6"
      },
      "source": [
        "true_params = {'m': m_true, 'b': b_true}\n",
        "model_params = {'m': 1.0, 'b': 0.0}\n",
        "\n",
        "# recall signature: mean_sqrd_loss(params, x, y_true)\n",
        "# note: grad takes gradients with respect to first arg\n",
        "grads = jit(grad(mean_sqrd_loss))\n",
        "\n",
        "print(\"grads w.r.t true_params\", grads(true_params, x, y_true))\n",
        "print(\"grads w.r.t model_params\", grads(model_params, x, y_true))"
      ],
      "execution_count": 28,
      "outputs": [
        {
          "output_type": "stream",
          "name": "stdout",
          "text": [
            "grads w.r.t true_params {'b': DeviceArray(-0.06965329, dtype=float32, weak_type=True), 'm': DeviceArray(0.8275, dtype=float32, weak_type=True)}\n",
            "grads w.r.t model_params {'b': DeviceArray(-4.069654, dtype=float32, weak_type=True), 'm': DeviceArray(170.11884, dtype=float32, weak_type=True)}\n"
          ]
        }
      ]
    },
    {
      "cell_type": "markdown",
      "metadata": {
        "id": "auRIYnYXZW3I"
      },
      "source": [
        "## 3: parallelizing using pmap\n",
        "\n",
        "We can calculate gradients in parallel over single samples or over batches. These will need to be added for the gradient descent step.\n",
        " \n",
        "We'll use `pmap`. we will also reshape the input `(x, y)` data so we can `pmap` it as well. We won't `pmap` across the model params `m` or `b`. Each device will thur run the regression model, but with a fraction of the data."
      ]
    },
    {
      "cell_type": "code",
      "metadata": {
        "id": "U75uXTIAYxaS",
        "colab": {
          "base_uri": "https://localhost:8080/"
        },
        "outputId": "26c956da-7b88-499d-f46d-8ae9f83d4566"
      },
      "source": [
        "# reshape x and y_true to 8 sets of 16 examples\n",
        "shardsize = datasize//num_replicas\n",
        "x = x.reshape((num_replicas, shardsize))\n",
        "y_true = y_true.reshape((num_replicas, shardsize))\n",
        "x.shape, y_true.shape"
      ],
      "execution_count": 30,
      "outputs": [
        {
          "output_type": "execute_result",
          "data": {
            "text/plain": [
              "((8, 16), (8, 16))"
            ]
          },
          "metadata": {},
          "execution_count": 30
        }
      ]
    },
    {
      "cell_type": "markdown",
      "metadata": {
        "id": "XbvGd_gn7vhp"
      },
      "source": [
        "So we are going to have `num_replicas` sets of gradients, each of which corresponds to the `shardsize` samples that went to that specific device. "
      ]
    },
    {
      "cell_type": "code",
      "metadata": {
        "id": "GcgbSkCv7n6o"
      },
      "source": [
        "from jax import pmap\n",
        "\n",
        "# recall signature: mean_sqrd_loss(params, x, y_true)\n",
        "p_grads = pmap(grad(mean_sqrd_loss), in_axes=(None, 0, 0))\n",
        "g = p_grads(model_params, x, y_true)"
      ],
      "execution_count": 34,
      "outputs": []
    },
    {
      "cell_type": "markdown",
      "metadata": {
        "id": "Qtuu-X6UIq0P"
      },
      "source": [
        "Notice the `in_axes` argument. Our loss signature is `mean_sqrd_loss(params, x, y_true)`. We dont wish to shard over params, but will shard using the devices dimension of both x and y.\n",
        "\n",
        "At this point we have the gradients for each of the `num_replicas` batches, and we will sum them and use the sum for an update."
      ]
    },
    {
      "cell_type": "code",
      "metadata": {
        "id": "gMs1WBAkI5K_",
        "colab": {
          "base_uri": "https://localhost:8080/"
        },
        "outputId": "101d618a-4d5e-4799-a699-f30b9097f41e"
      },
      "source": [
        "g = {k: jnp.sum(v) for k, v in g.items()}\n",
        "g"
      ],
      "execution_count": 35,
      "outputs": [
        {
          "output_type": "execute_result",
          "data": {
            "text/plain": [
              "{'b': DeviceArray(-32.557228, dtype=float32),\n",
              " 'm': DeviceArray(1360.9507, dtype=float32)}"
            ]
          },
          "metadata": {},
          "execution_count": 35
        }
      ]
    },
    {
      "cell_type": "markdown",
      "metadata": {
        "id": "j5g5FfJXJNYJ"
      },
      "source": [
        "jax provides `tree_map` to make this sum simpler and more versatile (all sorts of nesting is supported) "
      ]
    },
    {
      "cell_type": "code",
      "metadata": {
        "id": "hgRAZNR5JwPc",
        "colab": {
          "base_uri": "https://localhost:8080/"
        },
        "outputId": "e743baa3-c656-41ed-c508-aa7e76a6af77"
      },
      "source": [
        "from jax.tree_util import tree_map \n",
        "\n",
        "g = p_grads(model_params, x, y_true)\n",
        "g = tree_map(jnp.sum, g)\n",
        "g"
      ],
      "execution_count": 36,
      "outputs": [
        {
          "output_type": "execute_result",
          "data": {
            "text/plain": [
              "{'b': DeviceArray(-32.557228, dtype=float32),\n",
              " 'm': DeviceArray(1360.9507, dtype=float32)}"
            ]
          },
          "metadata": {},
          "execution_count": 36
        }
      ]
    },
    {
      "cell_type": "markdown",
      "metadata": {
        "id": "faOX8MgbJM6O"
      },
      "source": [
        "There are a number of parallel ops we can call that operate _across_ the devices. These include soncepts such as `allreduce`. After all we want to combine sharded data in different patterns. Here we use `psum`. "
      ]
    },
    {
      "cell_type": "code",
      "metadata": {
        "id": "yYbFKCcPFtjd",
        "colab": {
          "base_uri": "https://localhost:8080/"
        },
        "outputId": "e9353122-db0f-42d8-e222-bfae5d565688"
      },
      "source": [
        "from jax.lax import psum\n",
        "\n",
        "def p_grads(params, x, y_true):\n",
        "  grads = jit(grad(mean_sqrd_loss))(params, x, y_true)\n",
        "  grads = tree_map(lambda v: psum(v, 'device'), grads)\n",
        "  return grads\n",
        "\n",
        "p_grads = pmap(p_grads, in_axes=(None, 0, 0), axis_name='device')\n",
        "\n",
        "model_params = {'m': 1.0, 'b': 0.0}\n",
        "p_grads(model_params, x, y_true)"
      ],
      "execution_count": 38,
      "outputs": [
        {
          "output_type": "execute_result",
          "data": {
            "text/plain": [
              "{'b': ShardedDeviceArray([-32.557228, -32.557228, -32.557228, -32.557228,\n",
              "                     -32.557228, -32.557228, -32.557228, -32.557228],                   dtype=float32),\n",
              " 'm': ShardedDeviceArray([1360.9507, 1360.9507, 1360.9507, 1360.9507, 1360.9507,\n",
              "                     1360.9507, 1360.9507, 1360.9507], dtype=float32)}"
            ]
          },
          "metadata": {},
          "execution_count": 38
        }
      ]
    },
    {
      "cell_type": "markdown",
      "source": [
        "Notice how the `psum` did an allreduce on each machine by dint of being within the `pmap`, so that the gradient was replicated on the local shards on the devices. Also note how we baned the \"devine\" axis and used it to make sure that the allredice was done over the same axes.\n",
        "\n",
        "Now its time to uodate the model step by step. And this can be donr using `tree_multimap` within the pmap call too. Since we allreduce the fradients on each device, we'll do the updates on each device as well."
      ],
      "metadata": {
        "id": "orJ_QHpDYCUQ"
      }
    },
    {
      "cell_type": "code",
      "metadata": {
        "id": "7v0N3huqMWxd",
        "colab": {
          "base_uri": "https://localhost:8080/"
        },
        "outputId": "f892bcdd-0158-4fc0-9e2d-5abd757a3945"
      },
      "source": [
        "from jax.tree_util import tree_multimap\n",
        "\n",
        "def p_update(params, x, y_true):\n",
        "  # calculate gradients summing across all devices\n",
        "  grads = jit(grad(mean_sqrd_loss))(params, x, y_true)\n",
        "  grads = tree_map(lambda v: psum(v, 'device'), grads)  \n",
        "  # apply update\n",
        "  def update(p, g):  \n",
        "    learning_rate = 0.001\n",
        "    return p - learning_rate * g\n",
        "  new_params = tree_multimap(update, params, grads)\n",
        "  # return new params\n",
        "  return new_params\n",
        "\n",
        "p_update = pmap(p_update, in_axes=(None, 0, 0), axis_name='device')\n",
        "\n",
        "model_params = {'m': 1.0, 'b': 0.0}\n",
        "p_update(model_params, x, y_true)"
      ],
      "execution_count": 39,
      "outputs": [
        {
          "output_type": "stream",
          "name": "stderr",
          "text": [
            "/usr/local/lib/python3.7/dist-packages/jax/_src/tree_util.py:189: FutureWarning: jax.tree_util.tree_multimap() is deprecated. Please use jax.tree_util.tree_map() instead as a drop-in replacement.\n",
            "  'instead as a drop-in replacement.', FutureWarning)\n"
          ]
        },
        {
          "output_type": "execute_result",
          "data": {
            "text/plain": [
              "{'b': ShardedDeviceArray([0.03255723, 0.03255723, 0.03255723, 0.03255723,\n",
              "                     0.03255723, 0.03255723, 0.03255723, 0.03255723],                   dtype=float32),\n",
              " 'm': ShardedDeviceArray([-0.3609507, -0.3609507, -0.3609507, -0.3609507,\n",
              "                     -0.3609507, -0.3609507, -0.3609507, -0.3609507],                   dtype=float32)}"
            ]
          },
          "metadata": {},
          "execution_count": 39
        }
      ]
    },
    {
      "cell_type": "markdown",
      "metadata": {
        "id": "EeBq8a6mNzer"
      },
      "source": [
        "Now notice that the updated params are sharded as well. So we might as well have provided the initial params aharded, and get rid of the `None` for the params dimension. This will enable us to put this routine into a nice for loop."
      ]
    },
    {
      "cell_type": "code",
      "metadata": {
        "id": "Exk_R0uBM0MU",
        "colab": {
          "base_uri": "https://localhost:8080/"
        },
        "outputId": "ed1ce886-8ed1-45cc-fed4-9b418e82364c"
      },
      "source": [
        "def shard(x):\n",
        "  return pmap(lambda v: v)(x)\n",
        "\n",
        "def replicate(x, replicas=num_replicas):  \n",
        "  replicated = jnp.stack([x] * replicas)\n",
        "  return shard(replicated)\n",
        "\n",
        "model_params = {'m': 1.0, 'b': 0.0}\n",
        "model_params = tree_map(replicate, model_params)\n",
        "model_params"
      ],
      "execution_count": 40,
      "outputs": [
        {
          "output_type": "execute_result",
          "data": {
            "text/plain": [
              "{'b': ShardedDeviceArray([0., 0., 0., 0., 0., 0., 0., 0.], dtype=float32, weak_type=True),\n",
              " 'm': ShardedDeviceArray([1., 1., 1., 1., 1., 1., 1., 1.], dtype=float32, weak_type=True)}"
            ]
          },
          "metadata": {},
          "execution_count": 40
        }
      ]
    },
    {
      "cell_type": "markdown",
      "metadata": {
        "id": "sZIYAajm4Yv6"
      },
      "source": [
        "If we explicitly shard x and y too, instead of reshaping them, we'll also start by shipping parts of the data across the devices"
      ]
    },
    {
      "cell_type": "code",
      "metadata": {
        "id": "cVbER2R74XGq",
        "colab": {
          "base_uri": "https://localhost:8080/"
        },
        "outputId": "5cc996ba-57d3-46d8-d528-335891b47d03"
      },
      "source": [
        "x = shard(x)\n",
        "y_true = shard(y_true)\n",
        "  \n",
        "x.shape, type(x)"
      ],
      "execution_count": 41,
      "outputs": [
        {
          "output_type": "execute_result",
          "data": {
            "text/plain": [
              "((8, 16), jax.interpreters.pxla._ShardedDeviceArray)"
            ]
          },
          "metadata": {},
          "execution_count": 41
        }
      ]
    },
    {
      "cell_type": "markdown",
      "metadata": {
        "id": "EF9KDsyH4tPa"
      },
      "source": [
        "Now we can run smoothly in a loop!\n"
      ]
    },
    {
      "cell_type": "code",
      "metadata": {
        "id": "ve68pTe81hgC",
        "colab": {
          "base_uri": "https://localhost:8080/"
        },
        "outputId": "d48bf3c0-436d-45a9-92a9-32f6eac3b551"
      },
      "source": [
        "from jax import value_and_grad\n",
        "\n",
        "def p_update(params, x, y_true):\n",
        "  # calculate gradients\n",
        "  loss, grads = jit(value_and_grad(mean_sqrd_loss))(params, x, y_true)\n",
        "  # do all reduce sum across all replicas\n",
        "  grads = tree_map(lambda v: psum(v, 'device'), grads)  \n",
        "  # apply update\n",
        "  def update(p, g):  \n",
        "    learning_rate = 0.001\n",
        "    return p - learning_rate * g\n",
        "  new_params = tree_multimap(update, params, grads)\n",
        "  return new_params, loss\n",
        "\n",
        "# note: we pmap across _all_ args now; model_params, x and y\n",
        "p_update = pmap(p_update, in_axes=(0, 0, 0), axis_name='device')\n",
        "\n",
        "for i in range(20):\n",
        "  model_params, loss = p_update(model_params, x, y_true)  \n",
        "  print(\"step\", i , \"loss\", jnp.mean(loss), \n",
        "        \"m\", model_params['m'][0] , \"b\", model_params['b'][0])"
      ],
      "execution_count": 42,
      "outputs": [
        {
          "output_type": "stream",
          "name": "stderr",
          "text": [
            "/usr/local/lib/python3.7/dist-packages/jax/_src/tree_util.py:189: FutureWarning: jax.tree_util.tree_multimap() is deprecated. Please use jax.tree_util.tree_map() instead as a drop-in replacement.\n",
            "  'instead as a drop-in replacement.', FutureWarning)\n"
          ]
        },
        {
          "output_type": "stream",
          "name": "stdout",
          "text": [
            "step 0 loss 221.33818 m -0.3609507 b 0.03255723\n",
            "step 1 loss 52.395218 m -0.98463047 b 0.06459354\n",
            "step 2 loss 16.815964 m -1.2704427 b 0.09611727\n",
            "step 3 loss 9.247494 m -1.4014213 b 0.12713662\n",
            "step 4 loss 7.564609 m -1.4614446 b 0.15765966\n",
            "step 5 loss 7.1207185 m -1.4889513 b 0.18769434\n",
            "step 6 loss 6.9399004 m -1.5015568 b 0.21724845\n",
            "step 7 loss 6.817111 m -1.5073334 b 0.24632971\n",
            "step 8 loss 6.7092013 m -1.5099807 b 0.27494568\n",
            "step 9 loss 6.607023 m -1.5111939 b 0.30310377\n",
            "step 10 loss 6.5085716 m -1.5117497 b 0.33081135\n",
            "step 11 loss 6.4133463 m -1.5120045 b 0.3580756\n",
            "step 12 loss 6.3211675 m -1.5121213 b 0.3849036\n",
            "step 13 loss 6.2319174 m -1.5121748 b 0.4113024\n",
            "step 14 loss 6.1455016 m -1.5121993 b 0.43727878\n",
            "step 15 loss 6.0618305 m -1.5122105 b 0.46283954\n",
            "step 16 loss 5.9808154 m -1.5122156 b 0.48799133\n",
            "step 17 loss 5.9023705 m -1.512218 b 0.5127407\n",
            "step 18 loss 5.826417 m -1.5122191 b 0.53709406\n",
            "step 19 loss 5.752874 m -1.5122195 b 0.5610578\n"
          ]
        }
      ]
    }
  ]
}